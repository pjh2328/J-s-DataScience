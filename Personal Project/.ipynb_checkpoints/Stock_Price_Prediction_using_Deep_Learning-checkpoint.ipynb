{
 "cells": [
  {
   "cell_type": "markdown",
   "metadata": {
    "id": "BIItbMWqad4t"
   },
   "source": [
    "주식 예측기"
   ]
  },
  {
   "cell_type": "code",
   "execution_count": null,
   "metadata": {
    "colab": {
     "base_uri": "https://localhost:8080/"
    },
    "id": "7zicN_soh0wv",
    "outputId": "d793d4ca-c960-43c0-c9a8-b229c7a0854f"
   },
   "outputs": [
    {
     "name": "stdout",
     "output_type": "stream",
     "text": [
      "Looking in indexes: https://pypi.org/simple, https://us-python.pkg.dev/colab-wheels/public/simple/\n",
      "Collecting finance-datareader\n",
      "  Downloading finance_datareader-0.9.42-py3-none-any.whl (17 kB)\n",
      "Requirement already satisfied: pandas>=0.19.2 in /usr/local/lib/python3.7/dist-packages (from finance-datareader) (1.3.5)\n",
      "Requirement already satisfied: tqdm in /usr/local/lib/python3.7/dist-packages (from finance-datareader) (4.64.1)\n",
      "Collecting requests-file\n",
      "  Downloading requests_file-1.5.1-py2.py3-none-any.whl (3.7 kB)\n",
      "Requirement already satisfied: lxml in /usr/local/lib/python3.7/dist-packages (from finance-datareader) (4.9.1)\n",
      "Requirement already satisfied: requests>=2.3.0 in /usr/local/lib/python3.7/dist-packages (from finance-datareader) (2.23.0)\n",
      "Requirement already satisfied: numpy>=1.17.3 in /usr/local/lib/python3.7/dist-packages (from pandas>=0.19.2->finance-datareader) (1.21.6)\n",
      "Requirement already satisfied: python-dateutil>=2.7.3 in /usr/local/lib/python3.7/dist-packages (from pandas>=0.19.2->finance-datareader) (2.8.2)\n",
      "Requirement already satisfied: pytz>=2017.3 in /usr/local/lib/python3.7/dist-packages (from pandas>=0.19.2->finance-datareader) (2022.4)\n",
      "Requirement already satisfied: six>=1.5 in /usr/local/lib/python3.7/dist-packages (from python-dateutil>=2.7.3->pandas>=0.19.2->finance-datareader) (1.15.0)\n",
      "Requirement already satisfied: certifi>=2017.4.17 in /usr/local/lib/python3.7/dist-packages (from requests>=2.3.0->finance-datareader) (2022.9.24)\n",
      "Requirement already satisfied: idna<3,>=2.5 in /usr/local/lib/python3.7/dist-packages (from requests>=2.3.0->finance-datareader) (2.10)\n",
      "Requirement already satisfied: urllib3!=1.25.0,!=1.25.1,<1.26,>=1.21.1 in /usr/local/lib/python3.7/dist-packages (from requests>=2.3.0->finance-datareader) (1.24.3)\n",
      "Requirement already satisfied: chardet<4,>=3.0.2 in /usr/local/lib/python3.7/dist-packages (from requests>=2.3.0->finance-datareader) (3.0.4)\n",
      "Installing collected packages: requests-file, finance-datareader\n",
      "Successfully installed finance-datareader-0.9.42 requests-file-1.5.1\n"
     ]
    }
   ],
   "source": [
    "pip install finance-datareader #주식 정보 라이브러리 설치"
   ]
  },
  {
   "cell_type": "code",
   "execution_count": null,
   "metadata": {
    "id": "2BF9C79de1N1"
   },
   "outputs": [],
   "source": [
    "#사용한 라이브러리 \n",
    "import pandas as pd\n",
    "import numpy as np\n",
    "import matplotlib.pyplot as plt\n",
    "import FinanceDataReader as fdr"
   ]
  },
  {
   "cell_type": "code",
   "execution_count": null,
   "metadata": {
    "colab": {
     "base_uri": "https://localhost:8080/"
    },
    "id": "8ZJy532whuag",
    "outputId": "b3a86f1a-c4a8-4c3d-84fb-b638f395b93f"
   },
   "outputs": [
    {
     "name": "stderr",
     "output_type": "stream",
     "text": [
      "100%|██████████| 4606/4606 [00:40<00:00, 114.74it/s]\n"
     ]
    }
   ],
   "source": [
    "df_krx = fdr.StockListing('NASDAQ') # 미국 주식 불러오는 코드\n",
    "#df_krx = fdr.StockListing('KRX')   # 한국 주식 불러오는 코드"
   ]
  },
  {
   "cell_type": "code",
   "execution_count": null,
   "metadata": {
    "colab": {
     "base_uri": "https://localhost:8080/",
     "height": 455
    },
    "id": "mQ5TUbP6fLff",
    "outputId": "cab67b0c-0f88-4627-dd23-8ef4907bc596"
   },
   "outputs": [
    {
     "data": {
      "text/html": [
       "\n",
       "  <div id=\"df-cf36b146-2223-4304-b87a-4e2bd9cc9e28\">\n",
       "    <div class=\"colab-df-container\">\n",
       "      <div>\n",
       "<style scoped>\n",
       "    .dataframe tbody tr th:only-of-type {\n",
       "        vertical-align: middle;\n",
       "    }\n",
       "\n",
       "    .dataframe tbody tr th {\n",
       "        vertical-align: top;\n",
       "    }\n",
       "\n",
       "    .dataframe thead th {\n",
       "        text-align: right;\n",
       "    }\n",
       "</style>\n",
       "<table border=\"1\" class=\"dataframe\">\n",
       "  <thead>\n",
       "    <tr style=\"text-align: right;\">\n",
       "      <th></th>\n",
       "      <th>Close</th>\n",
       "      <th>Open</th>\n",
       "      <th>High</th>\n",
       "      <th>Low</th>\n",
       "      <th>Volume</th>\n",
       "      <th>Change</th>\n",
       "    </tr>\n",
       "    <tr>\n",
       "      <th>Date</th>\n",
       "      <th></th>\n",
       "      <th></th>\n",
       "      <th></th>\n",
       "      <th></th>\n",
       "      <th></th>\n",
       "      <th></th>\n",
       "    </tr>\n",
       "  </thead>\n",
       "  <tbody>\n",
       "    <tr>\n",
       "      <th>2020-01-02</th>\n",
       "      <td>94.90</td>\n",
       "      <td>93.75</td>\n",
       "      <td>94.90</td>\n",
       "      <td>93.21</td>\n",
       "      <td>80720000.0</td>\n",
       "      <td>0.0272</td>\n",
       "    </tr>\n",
       "    <tr>\n",
       "      <th>2020-01-03</th>\n",
       "      <td>93.75</td>\n",
       "      <td>93.22</td>\n",
       "      <td>94.31</td>\n",
       "      <td>93.22</td>\n",
       "      <td>75330000.0</td>\n",
       "      <td>-0.0121</td>\n",
       "    </tr>\n",
       "    <tr>\n",
       "      <th>2020-01-06</th>\n",
       "      <td>95.14</td>\n",
       "      <td>93.00</td>\n",
       "      <td>95.18</td>\n",
       "      <td>93.00</td>\n",
       "      <td>81310000.0</td>\n",
       "      <td>0.0148</td>\n",
       "    </tr>\n",
       "    <tr>\n",
       "      <th>2020-01-07</th>\n",
       "      <td>95.34</td>\n",
       "      <td>95.22</td>\n",
       "      <td>95.69</td>\n",
       "      <td>94.60</td>\n",
       "      <td>82680000.0</td>\n",
       "      <td>0.0021</td>\n",
       "    </tr>\n",
       "    <tr>\n",
       "      <th>2020-01-08</th>\n",
       "      <td>94.60</td>\n",
       "      <td>94.90</td>\n",
       "      <td>95.55</td>\n",
       "      <td>94.32</td>\n",
       "      <td>70240000.0</td>\n",
       "      <td>-0.0078</td>\n",
       "    </tr>\n",
       "    <tr>\n",
       "      <th>...</th>\n",
       "      <td>...</td>\n",
       "      <td>...</td>\n",
       "      <td>...</td>\n",
       "      <td>...</td>\n",
       "      <td>...</td>\n",
       "      <td>...</td>\n",
       "    </tr>\n",
       "    <tr>\n",
       "      <th>2022-10-06</th>\n",
       "      <td>120.30</td>\n",
       "      <td>120.77</td>\n",
       "      <td>121.53</td>\n",
       "      <td>119.50</td>\n",
       "      <td>42250000.0</td>\n",
       "      <td>-0.0054</td>\n",
       "    </tr>\n",
       "    <tr>\n",
       "      <th>2022-10-07</th>\n",
       "      <td>114.56</td>\n",
       "      <td>118.00</td>\n",
       "      <td>118.17</td>\n",
       "      <td>113.88</td>\n",
       "      <td>54680000.0</td>\n",
       "      <td>-0.0477</td>\n",
       "    </tr>\n",
       "    <tr>\n",
       "      <th>2022-10-10</th>\n",
       "      <td>113.67</td>\n",
       "      <td>115.10</td>\n",
       "      <td>116.25</td>\n",
       "      <td>112.43</td>\n",
       "      <td>42210000.0</td>\n",
       "      <td>-0.0078</td>\n",
       "    </tr>\n",
       "    <tr>\n",
       "      <th>2022-10-11</th>\n",
       "      <td>112.21</td>\n",
       "      <td>112.62</td>\n",
       "      <td>115.47</td>\n",
       "      <td>110.41</td>\n",
       "      <td>55830000.0</td>\n",
       "      <td>-0.0128</td>\n",
       "    </tr>\n",
       "    <tr>\n",
       "      <th>2022-10-12</th>\n",
       "      <td>113.18</td>\n",
       "      <td>112.47</td>\n",
       "      <td>113.82</td>\n",
       "      <td>111.41</td>\n",
       "      <td>37180000.0</td>\n",
       "      <td>0.0086</td>\n",
       "    </tr>\n",
       "  </tbody>\n",
       "</table>\n",
       "<p>701 rows × 6 columns</p>\n",
       "</div>\n",
       "      <button class=\"colab-df-convert\" onclick=\"convertToInteractive('df-cf36b146-2223-4304-b87a-4e2bd9cc9e28')\"\n",
       "              title=\"Convert this dataframe to an interactive table.\"\n",
       "              style=\"display:none;\">\n",
       "        \n",
       "  <svg xmlns=\"http://www.w3.org/2000/svg\" height=\"24px\"viewBox=\"0 0 24 24\"\n",
       "       width=\"24px\">\n",
       "    <path d=\"M0 0h24v24H0V0z\" fill=\"none\"/>\n",
       "    <path d=\"M18.56 5.44l.94 2.06.94-2.06 2.06-.94-2.06-.94-.94-2.06-.94 2.06-2.06.94zm-11 1L8.5 8.5l.94-2.06 2.06-.94-2.06-.94L8.5 2.5l-.94 2.06-2.06.94zm10 10l.94 2.06.94-2.06 2.06-.94-2.06-.94-.94-2.06-.94 2.06-2.06.94z\"/><path d=\"M17.41 7.96l-1.37-1.37c-.4-.4-.92-.59-1.43-.59-.52 0-1.04.2-1.43.59L10.3 9.45l-7.72 7.72c-.78.78-.78 2.05 0 2.83L4 21.41c.39.39.9.59 1.41.59.51 0 1.02-.2 1.41-.59l7.78-7.78 2.81-2.81c.8-.78.8-2.07 0-2.86zM5.41 20L4 18.59l7.72-7.72 1.47 1.35L5.41 20z\"/>\n",
       "  </svg>\n",
       "      </button>\n",
       "      \n",
       "  <style>\n",
       "    .colab-df-container {\n",
       "      display:flex;\n",
       "      flex-wrap:wrap;\n",
       "      gap: 12px;\n",
       "    }\n",
       "\n",
       "    .colab-df-convert {\n",
       "      background-color: #E8F0FE;\n",
       "      border: none;\n",
       "      border-radius: 50%;\n",
       "      cursor: pointer;\n",
       "      display: none;\n",
       "      fill: #1967D2;\n",
       "      height: 32px;\n",
       "      padding: 0 0 0 0;\n",
       "      width: 32px;\n",
       "    }\n",
       "\n",
       "    .colab-df-convert:hover {\n",
       "      background-color: #E2EBFA;\n",
       "      box-shadow: 0px 1px 2px rgba(60, 64, 67, 0.3), 0px 1px 3px 1px rgba(60, 64, 67, 0.15);\n",
       "      fill: #174EA6;\n",
       "    }\n",
       "\n",
       "    [theme=dark] .colab-df-convert {\n",
       "      background-color: #3B4455;\n",
       "      fill: #D2E3FC;\n",
       "    }\n",
       "\n",
       "    [theme=dark] .colab-df-convert:hover {\n",
       "      background-color: #434B5C;\n",
       "      box-shadow: 0px 1px 3px 1px rgba(0, 0, 0, 0.15);\n",
       "      filter: drop-shadow(0px 1px 2px rgba(0, 0, 0, 0.3));\n",
       "      fill: #FFFFFF;\n",
       "    }\n",
       "  </style>\n",
       "\n",
       "      <script>\n",
       "        const buttonEl =\n",
       "          document.querySelector('#df-cf36b146-2223-4304-b87a-4e2bd9cc9e28 button.colab-df-convert');\n",
       "        buttonEl.style.display =\n",
       "          google.colab.kernel.accessAllowed ? 'block' : 'none';\n",
       "\n",
       "        async function convertToInteractive(key) {\n",
       "          const element = document.querySelector('#df-cf36b146-2223-4304-b87a-4e2bd9cc9e28');\n",
       "          const dataTable =\n",
       "            await google.colab.kernel.invokeFunction('convertToInteractive',\n",
       "                                                     [key], {});\n",
       "          if (!dataTable) return;\n",
       "\n",
       "          const docLinkHtml = 'Like what you see? Visit the ' +\n",
       "            '<a target=\"_blank\" href=https://colab.research.google.com/notebooks/data_table.ipynb>data table notebook</a>'\n",
       "            + ' to learn more about interactive tables.';\n",
       "          element.innerHTML = '';\n",
       "          dataTable['output_type'] = 'display_data';\n",
       "          await google.colab.output.renderOutput(dataTable, element);\n",
       "          const docLink = document.createElement('div');\n",
       "          docLink.innerHTML = docLinkHtml;\n",
       "          element.appendChild(docLink);\n",
       "        }\n",
       "      </script>\n",
       "    </div>\n",
       "  </div>\n",
       "  "
      ],
      "text/plain": [
       "             Close    Open    High     Low      Volume  Change\n",
       "Date                                                          \n",
       "2020-01-02   94.90   93.75   94.90   93.21  80720000.0  0.0272\n",
       "2020-01-03   93.75   93.22   94.31   93.22  75330000.0 -0.0121\n",
       "2020-01-06   95.14   93.00   95.18   93.00  81310000.0  0.0148\n",
       "2020-01-07   95.34   95.22   95.69   94.60  82680000.0  0.0021\n",
       "2020-01-08   94.60   94.90   95.55   94.32  70240000.0 -0.0078\n",
       "...            ...     ...     ...     ...         ...     ...\n",
       "2022-10-06  120.30  120.77  121.53  119.50  42250000.0 -0.0054\n",
       "2022-10-07  114.56  118.00  118.17  113.88  54680000.0 -0.0477\n",
       "2022-10-10  113.67  115.10  116.25  112.43  42210000.0 -0.0078\n",
       "2022-10-11  112.21  112.62  115.47  110.41  55830000.0 -0.0128\n",
       "2022-10-12  113.18  112.47  113.82  111.41  37180000.0  0.0086\n",
       "\n",
       "[701 rows x 6 columns]"
      ]
     },
     "execution_count": 13,
     "metadata": {},
     "output_type": "execute_result"
    }
   ],
   "source": [
    "#df = fdr.DataReader('005930','2020') #한국 종목은 주식코드를 입력해서 사용, 2020년만 입력할 경우 2020년부터 현재까지 데이터 불러옴\n",
    "#df = fdr.DataReader('AMZN',start = '2019', end = '2021') # 미국 주식은 나스닥 코드를 사용하여 업로드\n",
    "df = fdr.DataReader('AMZN','2020')\n",
    "df"
   ]
  },
  {
   "cell_type": "code",
   "execution_count": null,
   "metadata": {
    "colab": {
     "base_uri": "https://localhost:8080/",
     "height": 237
    },
    "id": "F4JSNb6HgRt0",
    "outputId": "d84af2ef-deb3-4843-bb4c-36521c5e943c"
   },
   "outputs": [
    {
     "data": {
      "text/html": [
       "\n",
       "  <div id=\"df-59a08d64-fbdc-4680-b9f2-f3ba0d822d37\">\n",
       "    <div class=\"colab-df-container\">\n",
       "      <div>\n",
       "<style scoped>\n",
       "    .dataframe tbody tr th:only-of-type {\n",
       "        vertical-align: middle;\n",
       "    }\n",
       "\n",
       "    .dataframe tbody tr th {\n",
       "        vertical-align: top;\n",
       "    }\n",
       "\n",
       "    .dataframe thead th {\n",
       "        text-align: right;\n",
       "    }\n",
       "</style>\n",
       "<table border=\"1\" class=\"dataframe\">\n",
       "  <thead>\n",
       "    <tr style=\"text-align: right;\">\n",
       "      <th></th>\n",
       "      <th>Close</th>\n",
       "      <th>Open</th>\n",
       "      <th>High</th>\n",
       "      <th>Low</th>\n",
       "      <th>Volume</th>\n",
       "      <th>Change</th>\n",
       "    </tr>\n",
       "    <tr>\n",
       "      <th>Date</th>\n",
       "      <th></th>\n",
       "      <th></th>\n",
       "      <th></th>\n",
       "      <th></th>\n",
       "      <th></th>\n",
       "      <th></th>\n",
       "    </tr>\n",
       "  </thead>\n",
       "  <tbody>\n",
       "    <tr>\n",
       "      <th>2020-01-02</th>\n",
       "      <td>94.90</td>\n",
       "      <td>93.75</td>\n",
       "      <td>94.90</td>\n",
       "      <td>93.21</td>\n",
       "      <td>80720000.0</td>\n",
       "      <td>0.0272</td>\n",
       "    </tr>\n",
       "    <tr>\n",
       "      <th>2020-01-03</th>\n",
       "      <td>93.75</td>\n",
       "      <td>93.22</td>\n",
       "      <td>94.31</td>\n",
       "      <td>93.22</td>\n",
       "      <td>75330000.0</td>\n",
       "      <td>-0.0121</td>\n",
       "    </tr>\n",
       "    <tr>\n",
       "      <th>2020-01-06</th>\n",
       "      <td>95.14</td>\n",
       "      <td>93.00</td>\n",
       "      <td>95.18</td>\n",
       "      <td>93.00</td>\n",
       "      <td>81310000.0</td>\n",
       "      <td>0.0148</td>\n",
       "    </tr>\n",
       "    <tr>\n",
       "      <th>2020-01-07</th>\n",
       "      <td>95.34</td>\n",
       "      <td>95.22</td>\n",
       "      <td>95.69</td>\n",
       "      <td>94.60</td>\n",
       "      <td>82680000.0</td>\n",
       "      <td>0.0021</td>\n",
       "    </tr>\n",
       "    <tr>\n",
       "      <th>2020-01-08</th>\n",
       "      <td>94.60</td>\n",
       "      <td>94.90</td>\n",
       "      <td>95.55</td>\n",
       "      <td>94.32</td>\n",
       "      <td>70240000.0</td>\n",
       "      <td>-0.0078</td>\n",
       "    </tr>\n",
       "  </tbody>\n",
       "</table>\n",
       "</div>\n",
       "      <button class=\"colab-df-convert\" onclick=\"convertToInteractive('df-59a08d64-fbdc-4680-b9f2-f3ba0d822d37')\"\n",
       "              title=\"Convert this dataframe to an interactive table.\"\n",
       "              style=\"display:none;\">\n",
       "        \n",
       "  <svg xmlns=\"http://www.w3.org/2000/svg\" height=\"24px\"viewBox=\"0 0 24 24\"\n",
       "       width=\"24px\">\n",
       "    <path d=\"M0 0h24v24H0V0z\" fill=\"none\"/>\n",
       "    <path d=\"M18.56 5.44l.94 2.06.94-2.06 2.06-.94-2.06-.94-.94-2.06-.94 2.06-2.06.94zm-11 1L8.5 8.5l.94-2.06 2.06-.94-2.06-.94L8.5 2.5l-.94 2.06-2.06.94zm10 10l.94 2.06.94-2.06 2.06-.94-2.06-.94-.94-2.06-.94 2.06-2.06.94z\"/><path d=\"M17.41 7.96l-1.37-1.37c-.4-.4-.92-.59-1.43-.59-.52 0-1.04.2-1.43.59L10.3 9.45l-7.72 7.72c-.78.78-.78 2.05 0 2.83L4 21.41c.39.39.9.59 1.41.59.51 0 1.02-.2 1.41-.59l7.78-7.78 2.81-2.81c.8-.78.8-2.07 0-2.86zM5.41 20L4 18.59l7.72-7.72 1.47 1.35L5.41 20z\"/>\n",
       "  </svg>\n",
       "      </button>\n",
       "      \n",
       "  <style>\n",
       "    .colab-df-container {\n",
       "      display:flex;\n",
       "      flex-wrap:wrap;\n",
       "      gap: 12px;\n",
       "    }\n",
       "\n",
       "    .colab-df-convert {\n",
       "      background-color: #E8F0FE;\n",
       "      border: none;\n",
       "      border-radius: 50%;\n",
       "      cursor: pointer;\n",
       "      display: none;\n",
       "      fill: #1967D2;\n",
       "      height: 32px;\n",
       "      padding: 0 0 0 0;\n",
       "      width: 32px;\n",
       "    }\n",
       "\n",
       "    .colab-df-convert:hover {\n",
       "      background-color: #E2EBFA;\n",
       "      box-shadow: 0px 1px 2px rgba(60, 64, 67, 0.3), 0px 1px 3px 1px rgba(60, 64, 67, 0.15);\n",
       "      fill: #174EA6;\n",
       "    }\n",
       "\n",
       "    [theme=dark] .colab-df-convert {\n",
       "      background-color: #3B4455;\n",
       "      fill: #D2E3FC;\n",
       "    }\n",
       "\n",
       "    [theme=dark] .colab-df-convert:hover {\n",
       "      background-color: #434B5C;\n",
       "      box-shadow: 0px 1px 3px 1px rgba(0, 0, 0, 0.15);\n",
       "      filter: drop-shadow(0px 1px 2px rgba(0, 0, 0, 0.3));\n",
       "      fill: #FFFFFF;\n",
       "    }\n",
       "  </style>\n",
       "\n",
       "      <script>\n",
       "        const buttonEl =\n",
       "          document.querySelector('#df-59a08d64-fbdc-4680-b9f2-f3ba0d822d37 button.colab-df-convert');\n",
       "        buttonEl.style.display =\n",
       "          google.colab.kernel.accessAllowed ? 'block' : 'none';\n",
       "\n",
       "        async function convertToInteractive(key) {\n",
       "          const element = document.querySelector('#df-59a08d64-fbdc-4680-b9f2-f3ba0d822d37');\n",
       "          const dataTable =\n",
       "            await google.colab.kernel.invokeFunction('convertToInteractive',\n",
       "                                                     [key], {});\n",
       "          if (!dataTable) return;\n",
       "\n",
       "          const docLinkHtml = 'Like what you see? Visit the ' +\n",
       "            '<a target=\"_blank\" href=https://colab.research.google.com/notebooks/data_table.ipynb>data table notebook</a>'\n",
       "            + ' to learn more about interactive tables.';\n",
       "          element.innerHTML = '';\n",
       "          dataTable['output_type'] = 'display_data';\n",
       "          await google.colab.output.renderOutput(dataTable, element);\n",
       "          const docLink = document.createElement('div');\n",
       "          docLink.innerHTML = docLinkHtml;\n",
       "          element.appendChild(docLink);\n",
       "        }\n",
       "      </script>\n",
       "    </div>\n",
       "  </div>\n",
       "  "
      ],
      "text/plain": [
       "            Close   Open   High    Low      Volume  Change\n",
       "Date                                                      \n",
       "2020-01-02  94.90  93.75  94.90  93.21  80720000.0  0.0272\n",
       "2020-01-03  93.75  93.22  94.31  93.22  75330000.0 -0.0121\n",
       "2020-01-06  95.14  93.00  95.18  93.00  81310000.0  0.0148\n",
       "2020-01-07  95.34  95.22  95.69  94.60  82680000.0  0.0021\n",
       "2020-01-08  94.60  94.90  95.55  94.32  70240000.0 -0.0078"
      ]
     },
     "execution_count": 14,
     "metadata": {},
     "output_type": "execute_result"
    }
   ],
   "source": [
    "df.head()"
   ]
  },
  {
   "cell_type": "code",
   "execution_count": null,
   "metadata": {
    "colab": {
     "base_uri": "https://localhost:8080/"
    },
    "id": "YCa1pKW9gTMj",
    "outputId": "29a7968d-1954-4800-f835-8a419df24233"
   },
   "outputs": [
    {
     "name": "stdout",
     "output_type": "stream",
     "text": [
      "<class 'pandas.core.frame.DataFrame'>\n",
      "DatetimeIndex: 701 entries, 2020-01-02 to 2022-10-12\n",
      "Data columns (total 6 columns):\n",
      " #   Column  Non-Null Count  Dtype  \n",
      "---  ------  --------------  -----  \n",
      " 0   Close   701 non-null    float64\n",
      " 1   Open    701 non-null    float64\n",
      " 2   High    701 non-null    float64\n",
      " 3   Low     701 non-null    float64\n",
      " 4   Volume  701 non-null    float64\n",
      " 5   Change  701 non-null    float64\n",
      "dtypes: float64(6)\n",
      "memory usage: 38.3 KB\n"
     ]
    }
   ],
   "source": [
    "df.info()"
   ]
  },
  {
   "cell_type": "code",
   "execution_count": null,
   "metadata": {
    "colab": {
     "base_uri": "https://localhost:8080/",
     "height": 295
    },
    "id": "oe6rQ1SwgV1C",
    "outputId": "27e963cd-05b4-42a6-d835-459cbe3eb76c"
   },
   "outputs": [
    {
     "data": {
      "text/plain": [
       "<matplotlib.axes._subplots.AxesSubplot at 0x7fed9407cc90>"
      ]
     },
     "execution_count": 16,
     "metadata": {},
     "output_type": "execute_result"
    },
    {
     "data": {
      "image/png": "[encoded data removed]",
      "text/plain": [
       "<Figure size 432x288 with 1 Axes>"
      ]
     },
     "metadata": {
      "needs_background": "light"
     },
     "output_type": "display_data"
    }
   ],
   "source": [
    "df['Close'].plot()"
   ]
  },
  {
   "cell_type": "code",
   "execution_count": null,
   "metadata": {
    "id": "MUaiAsT9jhin"
   },
   "outputs": [],
   "source": [
    "aapl_close = df['Close']"
   ]
  },
  {
   "cell_type": "code",
   "execution_count": null,
   "metadata": {
    "colab": {
     "base_uri": "https://localhost:8080/"
    },
    "id": "jSYt1PC8jpgg",
    "outputId": "6c7d8f54-d799-49e7-cbe4-7647ccbc124d"
   },
   "outputs": [
    {
     "data": {
      "text/plain": [
       "(701,)"
      ]
     },
     "execution_count": 18,
     "metadata": {},
     "output_type": "execute_result"
    }
   ],
   "source": [
    "aapl_close.reset_index(drop = True, inplace = True)\n",
    "aapl_close.shape"
   ]
  },
  {
   "cell_type": "code",
   "execution_count": null,
   "metadata": {
    "id": "4H16bbcIj1_o"
   },
   "outputs": [],
   "source": [
    "aapl_close = pd.DataFrame(aapl_close)"
   ]
  },
  {
   "cell_type": "code",
   "execution_count": null,
   "metadata": {
    "id": "hdH5ayXHj6xg"
   },
   "outputs": [],
   "source": [
    "train = aapl_close.iloc[:630] # 시계열 데이터 학습\n",
    "test = aapl_close.iloc[630:] # 시계열 데이터 예측"
   ]
  },
  {
   "cell_type": "code",
   "execution_count": null,
   "metadata": {
    "id": "jRyYzpzakdzo"
   },
   "outputs": [],
   "source": [
    "from sklearn.preprocessing import MinMaxScaler\n",
    "#각 Feature의 값을 일정한 범위 또는 규칙에 따르게 하기 위해서 스케일링을 사용"
   ]
  },
  {
   "cell_type": "code",
   "execution_count": null,
   "metadata": {
    "id": "4XxoRjBt7-W0"
   },
   "outputs": [],
   "source": []
  },
  {
   "cell_type": "code",
   "execution_count": null,
   "metadata": {
    "id": "XIqOfI7Rktgp"
   },
   "outputs": [],
   "source": [
    "scaler = MinMaxScaler()"
   ]
  },
  {
   "cell_type": "code",
   "execution_count": null,
   "metadata": {
    "colab": {
     "base_uri": "https://localhost:8080/"
    },
    "id": "ACy8paRykvaZ",
    "outputId": "ccab8bed-b72e-451f-d08c-bc0e81bdc9e9"
   },
   "outputs": [
    {
     "data": {
      "text/plain": [
       "MinMaxScaler()"
      ]
     },
     "execution_count": 24,
     "metadata": {},
     "output_type": "execute_result"
    }
   ],
   "source": [
    "scaler.fit(train)"
   ]
  },
  {
   "cell_type": "code",
   "execution_count": null,
   "metadata": {
    "id": "7o6mZ8EskyZG"
   },
   "outputs": [],
   "source": [
    "scaled_train = scaler.transform(train)\n",
    "scaled_test = scaler.transform(test)"
   ]
  },
  {
   "cell_type": "code",
   "execution_count": null,
   "metadata": {
    "id": "ntSDkBY5lSY8"
   },
   "outputs": [],
   "source": [
    "from tensorflow.keras.preprocessing.sequence import TimeseriesGenerator\n",
    "#시간 순서가 있는 데이터의 배치를 생성"
   ]
  },
  {
   "cell_type": "code",
   "execution_count": null,
   "metadata": {
    "colab": {
     "base_uri": "https://localhost:8080/"
    },
    "id": "-GZXv3nGlcl2",
    "outputId": "e189b91d-cf1d-4764-bfe6-eddc50d0150e"
   },
   "outputs": [
    {
     "data": {
      "text/plain": [
       "(71, 1)"
      ]
     },
     "execution_count": 27,
     "metadata": {},
     "output_type": "execute_result"
    }
   ],
   "source": [
    "test.shape"
   ]
  },
  {
   "cell_type": "code",
   "execution_count": null,
   "metadata": {
    "id": "LJ36e1RwmCae"
   },
   "outputs": [],
   "source": [
    "#help(TimeseriesGenerator)\n",
    "#타임시지리즈제너레이터 설명"
   ]
  },
  {
   "cell_type": "code",
   "execution_count": null,
   "metadata": {
    "id": "ySPFKUxCmVGP"
   },
   "outputs": [],
   "source": [
    "length = 16\n",
    "batch_size = 32\n",
    "\n",
    "generator = TimeseriesGenerator(scaled_train, scaled_train,\n",
    "                                length = length, batch_size=batch_size)\n",
    "#기본적 구성 사용"
   ]
  },
  {
   "cell_type": "code",
   "execution_count": null,
   "metadata": {
    "id": "VQ5qSpnenMdl"
   },
   "outputs": [],
   "source": [
    "from tensorflow.keras.models import Sequential\n",
    "from tensorflow.keras.layers import Dense, SimpleRNN, LSTM, Dropout\n",
    "# Sequential 모델은 순차적으로 레이어 층을 더해주기 때문에 순차모델사용\n",
    "# 시계열 분석에 필요한 Dense, SimpleRNN, LSTM, Dropout모델 사용"
   ]
  },
  {
   "cell_type": "code",
   "execution_count": null,
   "metadata": {
    "id": "grUSqUken38r"
   },
   "outputs": [],
   "source": [
    "n_features = 1"
   ]
  },
  {
   "cell_type": "code",
   "execution_count": null,
   "metadata": {
    "id": "aV04KW3Kn7vi"
   },
   "outputs": [],
   "source": [
    "model = Sequential()\n",
    "\n",
    "model.add(SimpleRNN(50, input_shape=(length,n_features)))\n",
    "\n",
    "model.add(Dropout(rate=0.3))\n",
    "\n",
    "model.add(Dense(1))\n",
    "\n",
    "model.compile(optimizer='adam',loss='mse')\n",
    "#모델 구성에 필요한 RNN과 나머지 요소들 사용"
   ]
  },
  {
   "cell_type": "code",
   "execution_count": null,
   "metadata": {
    "id": "Vp9lg6xEoeYn"
   },
   "outputs": [],
   "source": [
    "#model.summary()"
   ]
  },
  {
   "cell_type": "code",
   "execution_count": null,
   "metadata": {
    "colab": {
     "base_uri": "https://localhost:8080/"
    },
    "id": "cE0-GhjDowA1",
    "outputId": "51b2a53c-ac72-4f7a-96db-939756b7283d"
   },
   "outputs": [
    {
     "name": "stdout",
     "output_type": "stream",
     "text": [
      "Epoch 1/100\n"
     ]
    },
    {
     "name": "stderr",
     "output_type": "stream",
     "text": [
      "/usr/local/lib/python3.7/dist-packages/ipykernel_launcher.py:1: UserWarning: `Model.fit_generator` is deprecated and will be removed in a future version. Please use `Model.fit`, which supports generators.\n",
      "  \"\"\"Entry point for launching an IPython kernel.\n"
     ]
    },
    {
     "name": "stdout",
     "output_type": "stream",
     "text": [
      "20/20 [==============================] - 2s 13ms/step - loss: 0.1075\n",
      "Epoch 2/100\n",
      "20/20 [==============================] - 0s 14ms/step - loss: 0.0571\n",
      "Epoch 3/100\n",
      "20/20 [==============================] - 0s 12ms/step - loss: 0.0531\n",
      "Epoch 4/100\n",
      "20/20 [==============================] - 0s 13ms/step - loss: 0.0215\n",
      "Epoch 5/100\n",
      "20/20 [==============================] - 0s 12ms/step - loss: 0.0171\n",
      "Epoch 6/100\n",
      "20/20 [==============================] - 0s 13ms/step - loss: 0.0137\n",
      "Epoch 7/100\n",
      "20/20 [==============================] - 0s 13ms/step - loss: 0.0131\n",
      "Epoch 8/100\n",
      "20/20 [==============================] - 0s 14ms/step - loss: 0.0138\n",
      "Epoch 9/100\n",
      "20/20 [==============================] - 0s 13ms/step - loss: 0.0124\n",
      "Epoch 10/100\n",
      "20/20 [==============================] - 0s 12ms/step - loss: 0.0113\n",
      "Epoch 11/100\n",
      "20/20 [==============================] - 0s 13ms/step - loss: 0.0106\n",
      "Epoch 12/100\n",
      "20/20 [==============================] - 0s 12ms/step - loss: 0.0104\n",
      "Epoch 13/100\n",
      "20/20 [==============================] - 0s 13ms/step - loss: 0.0096\n",
      "Epoch 14/100\n",
      "20/20 [==============================] - 0s 12ms/step - loss: 0.0096\n",
      "Epoch 15/100\n",
      "20/20 [==============================] - 0s 13ms/step - loss: 0.0113\n",
      "Epoch 16/100\n",
      "20/20 [==============================] - 0s 13ms/step - loss: 0.0118\n",
      "Epoch 17/100\n",
      "20/20 [==============================] - 0s 13ms/step - loss: 0.0093\n",
      "Epoch 18/100\n",
      "20/20 [==============================] - 0s 14ms/step - loss: 0.0084\n",
      "Epoch 19/100\n",
      "20/20 [==============================] - 0s 14ms/step - loss: 0.0072\n",
      "Epoch 20/100\n",
      "20/20 [==============================] - 0s 19ms/step - loss: 0.0075\n",
      "Epoch 21/100\n",
      "20/20 [==============================] - 1s 26ms/step - loss: 0.0081\n",
      "Epoch 22/100\n",
      "20/20 [==============================] - 1s 32ms/step - loss: 0.0072\n",
      "Epoch 23/100\n",
      "20/20 [==============================] - 1s 26ms/step - loss: 0.0079\n",
      "Epoch 24/100\n",
      "20/20 [==============================] - 1s 34ms/step - loss: 0.0081\n",
      "Epoch 25/100\n",
      "20/20 [==============================] - 1s 30ms/step - loss: 0.0078\n",
      "Epoch 26/100\n",
      "20/20 [==============================] - 1s 29ms/step - loss: 0.0081\n",
      "Epoch 27/100\n",
      "20/20 [==============================] - 1s 27ms/step - loss: 0.0067\n",
      "Epoch 28/100\n",
      "20/20 [==============================] - 1s 29ms/step - loss: 0.0065\n",
      "Epoch 29/100\n",
      "20/20 [==============================] - 1s 28ms/step - loss: 0.0065\n",
      "Epoch 30/100\n",
      "20/20 [==============================] - 1s 26ms/step - loss: 0.0067\n",
      "Epoch 31/100\n",
      "20/20 [==============================] - 1s 27ms/step - loss: 0.0058\n",
      "Epoch 32/100\n",
      "20/20 [==============================] - 1s 35ms/step - loss: 0.0070\n",
      "Epoch 33/100\n",
      "20/20 [==============================] - 1s 25ms/step - loss: 0.0060\n",
      "Epoch 34/100\n",
      "20/20 [==============================] - 1s 34ms/step - loss: 0.0060\n",
      "Epoch 35/100\n",
      "20/20 [==============================] - 1s 34ms/step - loss: 0.0064\n",
      "Epoch 36/100\n",
      "20/20 [==============================] - 1s 34ms/step - loss: 0.0058\n",
      "Epoch 37/100\n",
      "20/20 [==============================] - 1s 26ms/step - loss: 0.0062\n",
      "Epoch 38/100\n",
      "20/20 [==============================] - 1s 29ms/step - loss: 0.0057\n",
      "Epoch 39/100\n",
      "20/20 [==============================] - 1s 31ms/step - loss: 0.0060\n",
      "Epoch 40/100\n",
      "20/20 [==============================] - 1s 30ms/step - loss: 0.0059\n",
      "Epoch 41/100\n",
      "20/20 [==============================] - 1s 29ms/step - loss: 0.0058\n",
      "Epoch 42/100\n",
      "20/20 [==============================] - 1s 26ms/step - loss: 0.0060\n",
      "Epoch 43/100\n",
      "20/20 [==============================] - 1s 28ms/step - loss: 0.0059\n",
      "Epoch 44/100\n",
      "20/20 [==============================] - 1s 29ms/step - loss: 0.0058\n",
      "Epoch 45/100\n",
      "20/20 [==============================] - 0s 14ms/step - loss: 0.0056\n",
      "Epoch 46/100\n",
      "20/20 [==============================] - 0s 13ms/step - loss: 0.0049\n",
      "Epoch 47/100\n",
      "20/20 [==============================] - 0s 12ms/step - loss: 0.0054\n",
      "Epoch 48/100\n",
      "20/20 [==============================] - 0s 13ms/step - loss: 0.0054\n",
      "Epoch 49/100\n",
      "20/20 [==============================] - 0s 14ms/step - loss: 0.0051\n",
      "Epoch 50/100\n",
      "20/20 [==============================] - 0s 13ms/step - loss: 0.0060\n",
      "Epoch 51/100\n",
      "20/20 [==============================] - 0s 12ms/step - loss: 0.0055\n",
      "Epoch 52/100\n",
      "20/20 [==============================] - 0s 13ms/step - loss: 0.0053\n",
      "Epoch 53/100\n",
      "20/20 [==============================] - 0s 13ms/step - loss: 0.0046\n",
      "Epoch 54/100\n",
      "20/20 [==============================] - 0s 13ms/step - loss: 0.0050\n",
      "Epoch 55/100\n",
      "20/20 [==============================] - 0s 12ms/step - loss: 0.0052\n",
      "Epoch 56/100\n",
      "20/20 [==============================] - 0s 13ms/step - loss: 0.0049\n",
      "Epoch 57/100\n",
      "20/20 [==============================] - 0s 12ms/step - loss: 0.0048\n",
      "Epoch 58/100\n",
      "20/20 [==============================] - 0s 13ms/step - loss: 0.0047\n",
      "Epoch 59/100\n",
      "20/20 [==============================] - 0s 13ms/step - loss: 0.0045\n",
      "Epoch 60/100\n",
      "20/20 [==============================] - 0s 13ms/step - loss: 0.0054\n",
      "Epoch 61/100\n",
      "20/20 [==============================] - 0s 12ms/step - loss: 0.0064\n",
      "Epoch 62/100\n",
      "20/20 [==============================] - 0s 12ms/step - loss: 0.0054\n",
      "Epoch 63/100\n",
      "20/20 [==============================] - 0s 13ms/step - loss: 0.0053\n",
      "Epoch 64/100\n",
      "20/20 [==============================] - 0s 12ms/step - loss: 0.0051\n",
      "Epoch 65/100\n",
      "20/20 [==============================] - 0s 12ms/step - loss: 0.0048\n",
      "Epoch 66/100\n",
      "20/20 [==============================] - 0s 12ms/step - loss: 0.0047\n",
      "Epoch 67/100\n",
      "20/20 [==============================] - 0s 14ms/step - loss: 0.0052\n",
      "Epoch 68/100\n",
      "20/20 [==============================] - 0s 12ms/step - loss: 0.0045\n",
      "Epoch 69/100\n",
      "20/20 [==============================] - 0s 12ms/step - loss: 0.0042\n",
      "Epoch 70/100\n",
      "20/20 [==============================] - 0s 12ms/step - loss: 0.0048\n",
      "Epoch 71/100\n",
      "20/20 [==============================] - 0s 13ms/step - loss: 0.0046\n",
      "Epoch 72/100\n",
      "20/20 [==============================] - 0s 12ms/step - loss: 0.0050\n",
      "Epoch 73/100\n",
      "20/20 [==============================] - 0s 12ms/step - loss: 0.0051\n",
      "Epoch 74/100\n",
      "20/20 [==============================] - 0s 13ms/step - loss: 0.0050\n",
      "Epoch 75/100\n",
      "20/20 [==============================] - 0s 12ms/step - loss: 0.0045\n",
      "Epoch 76/100\n",
      "20/20 [==============================] - 0s 13ms/step - loss: 0.0043\n",
      "Epoch 77/100\n",
      "20/20 [==============================] - 0s 12ms/step - loss: 0.0047\n",
      "Epoch 78/100\n",
      "20/20 [==============================] - 0s 13ms/step - loss: 0.0043\n",
      "Epoch 79/100\n",
      "20/20 [==============================] - 0s 12ms/step - loss: 0.0046\n",
      "Epoch 80/100\n",
      "20/20 [==============================] - 0s 13ms/step - loss: 0.0043\n",
      "Epoch 81/100\n",
      "20/20 [==============================] - 0s 12ms/step - loss: 0.0040\n",
      "Epoch 82/100\n",
      "20/20 [==============================] - 0s 13ms/step - loss: 0.0041\n",
      "Epoch 83/100\n",
      "20/20 [==============================] - 0s 12ms/step - loss: 0.0042\n",
      "Epoch 84/100\n",
      "20/20 [==============================] - 0s 13ms/step - loss: 0.0040\n",
      "Epoch 85/100\n",
      "20/20 [==============================] - 0s 12ms/step - loss: 0.0041\n",
      "Epoch 86/100\n",
      "20/20 [==============================] - 0s 12ms/step - loss: 0.0038\n",
      "Epoch 87/100\n",
      "20/20 [==============================] - 0s 13ms/step - loss: 0.0037\n",
      "Epoch 88/100\n",
      "20/20 [==============================] - 0s 13ms/step - loss: 0.0037\n",
      "Epoch 89/100\n",
      "20/20 [==============================] - 0s 13ms/step - loss: 0.0039\n",
      "Epoch 90/100\n",
      "20/20 [==============================] - 0s 13ms/step - loss: 0.0045\n",
      "Epoch 91/100\n",
      "20/20 [==============================] - 0s 12ms/step - loss: 0.0039\n",
      "Epoch 92/100\n",
      "20/20 [==============================] - 0s 13ms/step - loss: 0.0046\n",
      "Epoch 93/100\n",
      "20/20 [==============================] - 0s 13ms/step - loss: 0.0047\n",
      "Epoch 94/100\n",
      "20/20 [==============================] - 0s 13ms/step - loss: 0.0040\n",
      "Epoch 95/100\n",
      "20/20 [==============================] - 0s 13ms/step - loss: 0.0038\n",
      "Epoch 96/100\n",
      "20/20 [==============================] - 0s 13ms/step - loss: 0.0039\n",
      "Epoch 97/100\n",
      "20/20 [==============================] - 0s 12ms/step - loss: 0.0040\n",
      "Epoch 98/100\n",
      "20/20 [==============================] - 0s 13ms/step - loss: 0.0037\n",
      "Epoch 99/100\n",
      "20/20 [==============================] - 0s 12ms/step - loss: 0.0034\n",
      "Epoch 100/100\n",
      "20/20 [==============================] - 0s 12ms/step - loss: 0.0036\n"
     ]
    },
    {
     "data": {
      "text/plain": [
       "<keras.callbacks.History at 0x7f0c600f1810>"
      ]
     },
     "execution_count": 25,
     "metadata": {},
     "output_type": "execute_result"
    }
   ],
   "source": [
    "model.fit_generator(generator, epochs = 100, shuffle = False)\n",
    "#모델 학습 시작"
   ]
  },
  {
   "cell_type": "code",
   "execution_count": null,
   "metadata": {
    "id": "X8yzVip7s3Hs"
   },
   "outputs": [],
   "source": [
    "losses = pd.DataFrame(model.history.history)"
   ]
  },
  {
   "cell_type": "code",
   "execution_count": null,
   "metadata": {
    "colab": {
     "base_uri": "https://localhost:8080/",
     "height": 282
    },
    "id": "2wuWLpOItJEB",
    "outputId": "c678b271-cb64-4208-a9bc-f5367b122d52"
   },
   "outputs": [
    {
     "data": {
      "text/plain": [
       "<matplotlib.axes._subplots.AxesSubplot at 0x7f0ccc20cf10>"
      ]
     },
     "execution_count": 27,
     "metadata": {},
     "output_type": "execute_result"
    },
    {
     "data": {
      "image/png": "[encoded data removed]",
      "text/plain": [
       "<Figure size 432x288 with 1 Axes>"
      ]
     },
     "metadata": {
      "needs_background": "light"
     },
     "output_type": "display_data"
    }
   ],
   "source": [
    "losses.plot()\n",
    "#손실율은 0에 가깝게 성공"
   ]
  },
  {
   "cell_type": "markdown",
   "metadata": {
    "id": "I-sW8FXRtgWI"
   },
   "source": [
    "# Evaluate test set"
   ]
  },
  {
   "cell_type": "code",
   "execution_count": null,
   "metadata": {
    "id": "Ww3KVAEPtirC"
   },
   "outputs": [],
   "source": [
    "first_eval_batch = scaled_train[-length:]"
   ]
  },
  {
   "cell_type": "code",
   "execution_count": null,
   "metadata": {
    "colab": {
     "base_uri": "https://localhost:8080/"
    },
    "id": "M9gRCjs4tuV-",
    "outputId": "cbf4dbe8-f825-4b6f-e9ff-0d502e21ca4a"
   },
   "outputs": [
    {
     "data": {
      "text/plain": [
       "array([[0.31458049],\n",
       "       [0.251314  ],\n",
       "       [0.19310882],\n",
       "       [0.17987152],\n",
       "       [0.23204205],\n",
       "       [0.19301149],\n",
       "       [0.21792875],\n",
       "       [0.24187269],\n",
       "       [0.24450068],\n",
       "       [0.27846992],\n",
       "       [0.31759782],\n",
       "       [0.2860619 ],\n",
       "       [0.22941405],\n",
       "       [0.24420868],\n",
       "       [0.21783142],\n",
       "       [0.250438  ]])"
      ]
     },
     "execution_count": 29,
     "metadata": {},
     "output_type": "execute_result"
    }
   ],
   "source": [
    "first_eval_batch"
   ]
  },
  {
   "cell_type": "code",
   "execution_count": null,
   "metadata": {
    "id": "K5etTJPWtwq8"
   },
   "outputs": [],
   "source": [
    "first_eval_batch = first_eval_batch.reshape((1,length,1))"
   ]
  },
  {
   "cell_type": "code",
   "execution_count": null,
   "metadata": {
    "colab": {
     "base_uri": "https://localhost:8080/"
    },
    "id": "OHY1atUit3iI",
    "outputId": "8cfe2628-b32a-4810-8354-f04f77c69280"
   },
   "outputs": [
    {
     "data": {
      "text/plain": [
       "array([[[0.31458049],\n",
       "        [0.251314  ],\n",
       "        [0.19310882],\n",
       "        [0.17987152],\n",
       "        [0.23204205],\n",
       "        [0.19301149],\n",
       "        [0.21792875],\n",
       "        [0.24187269],\n",
       "        [0.24450068],\n",
       "        [0.27846992],\n",
       "        [0.31759782],\n",
       "        [0.2860619 ],\n",
       "        [0.22941405],\n",
       "        [0.24420868],\n",
       "        [0.21783142],\n",
       "        [0.250438  ]]])"
      ]
     },
     "execution_count": 31,
     "metadata": {},
     "output_type": "execute_result"
    }
   ],
   "source": [
    "first_eval_batch"
   ]
  },
  {
   "cell_type": "code",
   "execution_count": null,
   "metadata": {
    "colab": {
     "base_uri": "https://localhost:8080/"
    },
    "id": "a003O-zLt8H9",
    "outputId": "8b23b90e-597f-4f0b-b2d8-43ac716b50d2"
   },
   "outputs": [
    {
     "data": {
      "text/plain": [
       "array([[0.2550144]], dtype=float32)"
      ]
     },
     "execution_count": 32,
     "metadata": {},
     "output_type": "execute_result"
    }
   ],
   "source": [
    "model.predict(first_eval_batch)"
   ]
  },
  {
   "cell_type": "code",
   "execution_count": null,
   "metadata": {
    "colab": {
     "base_uri": "https://localhost:8080/"
    },
    "id": "iKLgzQsrvmAM",
    "outputId": "ab16668e-8deb-4072-aede-31f1d4958d07"
   },
   "outputs": [
    {
     "data": {
      "text/plain": [
       "array([0.28878723])"
      ]
     },
     "execution_count": 33,
     "metadata": {},
     "output_type": "execute_result"
    }
   ],
   "source": [
    "scaled_test[0]"
   ]
  },
  {
   "cell_type": "markdown",
   "metadata": {
    "id": "eRN0lo4iwBhf"
   },
   "source": [
    "note: pay close attention here to wat is being outputed and in what diemnsion. add your won "
   ]
  },
  {
   "cell_type": "code",
   "execution_count": null,
   "metadata": {
    "id": "KZxkjHFcvoAH"
   },
   "outputs": [],
   "source": [
    "test_predictions = []\n",
    "\n",
    "first_eval_batch = scaled_train[-length:]\n",
    "current_batch = first_eval_batch.reshape((1, length, n_features))\n",
    "\n",
    "for i in range(len(test)):\n",
    "  current_pred = model.predict(current_batch)[0]\n",
    "\n",
    "  test_predictions.append(current_pred)\n",
    "\n",
    "  current_batch = np.append(current_batch[:,1:,:], [[current_pred]], axis=1)\n",
    "\n",
    "#예측 함수는 Great Learning에서 사용한 함수를 사용"
   ]
  },
  {
   "cell_type": "code",
   "execution_count": null,
   "metadata": {
    "colab": {
     "base_uri": "https://localhost:8080/"
    },
    "id": "vfYAPrChw02J",
    "outputId": "e84e92c3-e7d1-426d-a26c-c1f8db8835d5"
   },
   "outputs": [
    {
     "data": {
      "text/plain": [
       "[array([0.2550144], dtype=float32),\n",
       " array([0.26819074], dtype=float32),\n",
       " array([0.26713076], dtype=float32),\n",
       " array([0.27622792], dtype=float32),\n",
       " array([0.2881027], dtype=float32),\n",
       " array([0.29211116], dtype=float32),\n",
       " array([0.3029077], dtype=float32),\n",
       " array([0.30446047], dtype=float32),\n",
       " array([0.30843177], dtype=float32),\n",
       " array([0.309179], dtype=float32),\n",
       " array([0.32039118], dtype=float32),\n",
       " array([0.32782033], dtype=float32),\n",
       " array([0.33383834], dtype=float32),\n",
       " array([0.3405991], dtype=float32),\n",
       " array([0.343565], dtype=float32),\n",
       " array([0.34911674], dtype=float32),\n",
       " array([0.35323298], dtype=float32),\n",
       " array([0.35912472], dtype=float32),\n",
       " array([0.36220086], dtype=float32),\n",
       " array([0.36623156], dtype=float32),\n",
       " array([0.36953765], dtype=float32)]"
      ]
     },
     "execution_count": 35,
     "metadata": {},
     "output_type": "execute_result"
    }
   ],
   "source": [
    "test_predictions"
   ]
  },
  {
   "cell_type": "code",
   "execution_count": null,
   "metadata": {
    "id": "sHnT_2o9xI_K"
   },
   "outputs": [],
   "source": [
    "true_predictions = scaler.inverse_transform(test_predictions)"
   ]
  },
  {
   "cell_type": "code",
   "execution_count": null,
   "metadata": {
    "colab": {
     "base_uri": "https://localhost:8080/"
    },
    "id": "zzCKopTDxPJW",
    "outputId": "d6c9676c-848c-4819-8427-eabd2c6b5162"
   },
   "outputs": [
    {
     "name": "stderr",
     "output_type": "stream",
     "text": [
      "/usr/local/lib/python3.7/dist-packages/ipykernel_launcher.py:1: SettingWithCopyWarning: \n",
      "A value is trying to be set on a copy of a slice from a DataFrame.\n",
      "Try using .loc[row_indexer,col_indexer] = value instead\n",
      "\n",
      "See the caveats in the documentation: https://pandas.pydata.org/pandas-docs/stable/user_guide/indexing.html#returning-a-view-versus-a-copy\n",
      "  \"\"\"Entry point for launching an IPython kernel.\n"
     ]
    }
   ],
   "source": [
    "test['predictions'] = true_predictions"
   ]
  },
  {
   "cell_type": "code",
   "execution_count": null,
   "metadata": {
    "colab": {
     "base_uri": "https://localhost:8080/",
     "height": 708
    },
    "id": "ddohCqg6xqgk",
    "outputId": "7fbf16ee-fbec-49db-8b25-186b1f04229a"
   },
   "outputs": [
    {
     "data": {
      "text/html": [
       "\n",
       "  <div id=\"df-ff76ab94-35c7-44c8-8726-8f0999f7db93\">\n",
       "    <div class=\"colab-df-container\">\n",
       "      <div>\n",
       "<style scoped>\n",
       "    .dataframe tbody tr th:only-of-type {\n",
       "        vertical-align: middle;\n",
       "    }\n",
       "\n",
       "    .dataframe tbody tr th {\n",
       "        vertical-align: top;\n",
       "    }\n",
       "\n",
       "    .dataframe thead th {\n",
       "        text-align: right;\n",
       "    }\n",
       "</style>\n",
       "<table border=\"1\" class=\"dataframe\">\n",
       "  <thead>\n",
       "    <tr style=\"text-align: right;\">\n",
       "      <th></th>\n",
       "      <th>Close</th>\n",
       "      <th>predictions</th>\n",
       "    </tr>\n",
       "  </thead>\n",
       "  <tbody>\n",
       "    <tr>\n",
       "      <th>630</th>\n",
       "      <td>113.50</td>\n",
       "      <td>110.030178</td>\n",
       "    </tr>\n",
       "    <tr>\n",
       "      <th>631</th>\n",
       "      <td>114.33</td>\n",
       "      <td>111.383917</td>\n",
       "    </tr>\n",
       "    <tr>\n",
       "      <th>632</th>\n",
       "      <td>116.33</td>\n",
       "      <td>111.275015</td>\n",
       "    </tr>\n",
       "    <tr>\n",
       "      <th>633</th>\n",
       "      <td>115.54</td>\n",
       "      <td>112.209657</td>\n",
       "    </tr>\n",
       "    <tr>\n",
       "      <th>634</th>\n",
       "      <td>111.75</td>\n",
       "      <td>113.429670</td>\n",
       "    </tr>\n",
       "    <tr>\n",
       "      <th>635</th>\n",
       "      <td>109.22</td>\n",
       "      <td>113.841500</td>\n",
       "    </tr>\n",
       "    <tr>\n",
       "      <th>636</th>\n",
       "      <td>110.40</td>\n",
       "      <td>114.950738</td>\n",
       "    </tr>\n",
       "    <tr>\n",
       "      <th>637</th>\n",
       "      <td>110.63</td>\n",
       "      <td>115.110268</td>\n",
       "    </tr>\n",
       "    <tr>\n",
       "      <th>638</th>\n",
       "      <td>113.55</td>\n",
       "      <td>115.518280</td>\n",
       "    </tr>\n",
       "    <tr>\n",
       "      <th>639</th>\n",
       "      <td>113.76</td>\n",
       "      <td>115.595051</td>\n",
       "    </tr>\n",
       "    <tr>\n",
       "      <th>640</th>\n",
       "      <td>118.21</td>\n",
       "      <td>116.746990</td>\n",
       "    </tr>\n",
       "    <tr>\n",
       "      <th>641</th>\n",
       "      <td>122.77</td>\n",
       "      <td>117.510261</td>\n",
       "    </tr>\n",
       "    <tr>\n",
       "      <th>642</th>\n",
       "      <td>124.63</td>\n",
       "      <td>118.128551</td>\n",
       "    </tr>\n",
       "    <tr>\n",
       "      <th>643</th>\n",
       "      <td>122.42</td>\n",
       "      <td>118.823150</td>\n",
       "    </tr>\n",
       "    <tr>\n",
       "      <th>644</th>\n",
       "      <td>121.14</td>\n",
       "      <td>119.127867</td>\n",
       "    </tr>\n",
       "    <tr>\n",
       "      <th>645</th>\n",
       "      <td>114.81</td>\n",
       "      <td>119.698254</td>\n",
       "    </tr>\n",
       "    <tr>\n",
       "      <th>646</th>\n",
       "      <td>120.97</td>\n",
       "      <td>120.121156</td>\n",
       "    </tr>\n",
       "    <tr>\n",
       "      <th>647</th>\n",
       "      <td>122.28</td>\n",
       "      <td>120.726474</td>\n",
       "    </tr>\n",
       "    <tr>\n",
       "      <th>648</th>\n",
       "      <td>134.95</td>\n",
       "      <td>121.042516</td>\n",
       "    </tr>\n",
       "    <tr>\n",
       "      <th>649</th>\n",
       "      <td>135.39</td>\n",
       "      <td>121.456631</td>\n",
       "    </tr>\n",
       "    <tr>\n",
       "      <th>650</th>\n",
       "      <td>134.16</td>\n",
       "      <td>121.796298</td>\n",
       "    </tr>\n",
       "  </tbody>\n",
       "</table>\n",
       "</div>\n",
       "      <button class=\"colab-df-convert\" onclick=\"convertToInteractive('df-ff76ab94-35c7-44c8-8726-8f0999f7db93')\"\n",
       "              title=\"Convert this dataframe to an interactive table.\"\n",
       "              style=\"display:none;\">\n",
       "        \n",
       "  <svg xmlns=\"http://www.w3.org/2000/svg\" height=\"24px\"viewBox=\"0 0 24 24\"\n",
       "       width=\"24px\">\n",
       "    <path d=\"M0 0h24v24H0V0z\" fill=\"none\"/>\n",
       "    <path d=\"M18.56 5.44l.94 2.06.94-2.06 2.06-.94-2.06-.94-.94-2.06-.94 2.06-2.06.94zm-11 1L8.5 8.5l.94-2.06 2.06-.94-2.06-.94L8.5 2.5l-.94 2.06-2.06.94zm10 10l.94 2.06.94-2.06 2.06-.94-2.06-.94-.94-2.06-.94 2.06-2.06.94z\"/><path d=\"M17.41 7.96l-1.37-1.37c-.4-.4-.92-.59-1.43-.59-.52 0-1.04.2-1.43.59L10.3 9.45l-7.72 7.72c-.78.78-.78 2.05 0 2.83L4 21.41c.39.39.9.59 1.41.59.51 0 1.02-.2 1.41-.59l7.78-7.78 2.81-2.81c.8-.78.8-2.07 0-2.86zM5.41 20L4 18.59l7.72-7.72 1.47 1.35L5.41 20z\"/>\n",
       "  </svg>\n",
       "      </button>\n",
       "      \n",
       "  <style>\n",
       "    .colab-df-container {\n",
       "      display:flex;\n",
       "      flex-wrap:wrap;\n",
       "      gap: 12px;\n",
       "    }\n",
       "\n",
       "    .colab-df-convert {\n",
       "      background-color: #E8F0FE;\n",
       "      border: none;\n",
       "      border-radius: 50%;\n",
       "      cursor: pointer;\n",
       "      display: none;\n",
       "      fill: #1967D2;\n",
       "      height: 32px;\n",
       "      padding: 0 0 0 0;\n",
       "      width: 32px;\n",
       "    }\n",
       "\n",
       "    .colab-df-convert:hover {\n",
       "      background-color: #E2EBFA;\n",
       "      box-shadow: 0px 1px 2px rgba(60, 64, 67, 0.3), 0px 1px 3px 1px rgba(60, 64, 67, 0.15);\n",
       "      fill: #174EA6;\n",
       "    }\n",
       "\n",
       "    [theme=dark] .colab-df-convert {\n",
       "      background-color: #3B4455;\n",
       "      fill: #D2E3FC;\n",
       "    }\n",
       "\n",
       "    [theme=dark] .colab-df-convert:hover {\n",
       "      background-color: #434B5C;\n",
       "      box-shadow: 0px 1px 3px 1px rgba(0, 0, 0, 0.15);\n",
       "      filter: drop-shadow(0px 1px 2px rgba(0, 0, 0, 0.3));\n",
       "      fill: #FFFFFF;\n",
       "    }\n",
       "  </style>\n",
       "\n",
       "      <script>\n",
       "        const buttonEl =\n",
       "          document.querySelector('#df-ff76ab94-35c7-44c8-8726-8f0999f7db93 button.colab-df-convert');\n",
       "        buttonEl.style.display =\n",
       "          google.colab.kernel.accessAllowed ? 'block' : 'none';\n",
       "\n",
       "        async function convertToInteractive(key) {\n",
       "          const element = document.querySelector('#df-ff76ab94-35c7-44c8-8726-8f0999f7db93');\n",
       "          const dataTable =\n",
       "            await google.colab.kernel.invokeFunction('convertToInteractive',\n",
       "                                                     [key], {});\n",
       "          if (!dataTable) return;\n",
       "\n",
       "          const docLinkHtml = 'Like what you see? Visit the ' +\n",
       "            '<a target=\"_blank\" href=https://colab.research.google.com/notebooks/data_table.ipynb>data table notebook</a>'\n",
       "            + ' to learn more about interactive tables.';\n",
       "          element.innerHTML = '';\n",
       "          dataTable['output_type'] = 'display_data';\n",
       "          await google.colab.output.renderOutput(dataTable, element);\n",
       "          const docLink = document.createElement('div');\n",
       "          docLink.innerHTML = docLinkHtml;\n",
       "          element.appendChild(docLink);\n",
       "        }\n",
       "      </script>\n",
       "    </div>\n",
       "  </div>\n",
       "  "
      ],
      "text/plain": [
       "      Close  predictions\n",
       "630  113.50   110.030178\n",
       "631  114.33   111.383917\n",
       "632  116.33   111.275015\n",
       "633  115.54   112.209657\n",
       "634  111.75   113.429670\n",
       "635  109.22   113.841500\n",
       "636  110.40   114.950738\n",
       "637  110.63   115.110268\n",
       "638  113.55   115.518280\n",
       "639  113.76   115.595051\n",
       "640  118.21   116.746990\n",
       "641  122.77   117.510261\n",
       "642  124.63   118.128551\n",
       "643  122.42   118.823150\n",
       "644  121.14   119.127867\n",
       "645  114.81   119.698254\n",
       "646  120.97   120.121156\n",
       "647  122.28   120.726474\n",
       "648  134.95   121.042516\n",
       "649  135.39   121.456631\n",
       "650  134.16   121.796298"
      ]
     },
     "execution_count": 38,
     "metadata": {},
     "output_type": "execute_result"
    }
   ],
   "source": [
    "test"
   ]
  },
  {
   "cell_type": "code",
   "execution_count": null,
   "metadata": {
    "colab": {
     "base_uri": "https://localhost:8080/",
     "height": 748
    },
    "id": "sG3N_IY9xs5n",
    "outputId": "b3616eec-c09d-435c-c30a-a83b0cf7c19b"
   },
   "outputs": [
    {
     "data": {
      "text/plain": [
       "<matplotlib.axes._subplots.AxesSubplot at 0x7f0c5003b5d0>"
      ]
     },
     "execution_count": 39,
     "metadata": {},
     "output_type": "execute_result"
    },
    {
     "data": {
      "image/png": "[encoded data removed]",
      "text/plain": [
       "<Figure size 864x576 with 1 Axes>"
      ]
     },
     "metadata": {
      "needs_background": "light"
     },
     "output_type": "display_data"
    },
    {
     "data": {
      "image/png": "[encoded data removed]",
      "text/plain": [
       "<Figure size 432x288 with 1 Axes>"
      ]
     },
     "metadata": {
      "needs_background": "light"
     },
     "output_type": "display_data"
    }
   ],
   "source": [
    "test.plot(figsize=(12,8))\n",
    "aapl_close.plot()\n",
    "#예측시도 \n",
    "#어느정도의 트렌드는 따라감\n",
    "#하지만 코로나떄문에 여러 방면으로 시도를 하면 가끔 예측이 빗나감"
   ]
  },
  {
   "cell_type": "code",
   "execution_count": null,
   "metadata": {
    "id": "7SM14fMBzS-I"
   },
   "outputs": [],
   "source": [
    "full_scaler = MinMaxScaler()\n",
    "scaled_full_data = full_scaler.fit_transform(aapl_close)"
   ]
  },
  {
   "cell_type": "code",
   "execution_count": null,
   "metadata": {
    "id": "D457-RoqzgDx"
   },
   "outputs": [],
   "source": [
    "generator = TimeseriesGenerator(scaled_full_data, scaled_full_data,\n",
    "                                length = length, batch_size=32)"
   ]
  },
  {
   "cell_type": "code",
   "execution_count": null,
   "metadata": {
    "id": "SkiAm-tmT4he"
   },
   "outputs": [],
   "source": [
    "model = Sequential()\n",
    "\n",
    "model.add(SimpleRNN(30, input_shape= (length, n_features)))\n",
    "\n",
    "model.add(Dropout(rate = 0.2))\n",
    "\n",
    "model.add(Dense(1))\n",
    "\n",
    "model.compile(optimizer='adam',loss='mse')"
   ]
  },
  {
   "cell_type": "code",
   "execution_count": null,
   "metadata": {
    "colab": {
     "base_uri": "https://localhost:8080/"
    },
    "id": "Ilbs-43XXa8c",
    "outputId": "8e21399e-1395-474c-f525-e9b62cf58d1f"
   },
   "outputs": [
    {
     "name": "stdout",
     "output_type": "stream",
     "text": [
      "Epoch 1/100\n"
     ]
    },
    {
     "name": "stderr",
     "output_type": "stream",
     "text": [
      "/usr/local/lib/python3.7/dist-packages/ipykernel_launcher.py:1: UserWarning: `Model.fit_generator` is deprecated and will be removed in a future version. Please use `Model.fit`, which supports generators.\n",
      "  \"\"\"Entry point for launching an IPython kernel.\n"
     ]
    },
    {
     "name": "stdout",
     "output_type": "stream",
     "text": [
      "20/20 [==============================] - 1s 13ms/step - loss: 0.1837\n",
      "Epoch 2/100\n",
      "20/20 [==============================] - 0s 15ms/step - loss: 0.0984\n",
      "Epoch 3/100\n",
      "20/20 [==============================] - 0s 15ms/step - loss: 0.0481\n",
      "Epoch 4/100\n",
      "20/20 [==============================] - 0s 13ms/step - loss: 0.0325\n",
      "Epoch 5/100\n",
      "20/20 [==============================] - 0s 13ms/step - loss: 0.0276\n",
      "Epoch 6/100\n",
      "20/20 [==============================] - 0s 13ms/step - loss: 0.0253\n",
      "Epoch 7/100\n",
      "20/20 [==============================] - 0s 13ms/step - loss: 0.0227\n",
      "Epoch 8/100\n",
      "20/20 [==============================] - 0s 13ms/step - loss: 0.0197\n",
      "Epoch 9/100\n",
      "20/20 [==============================] - 0s 13ms/step - loss: 0.0185\n",
      "Epoch 10/100\n",
      "20/20 [==============================] - 0s 12ms/step - loss: 0.0169\n",
      "Epoch 11/100\n",
      "20/20 [==============================] - 0s 13ms/step - loss: 0.0186\n",
      "Epoch 12/100\n",
      "20/20 [==============================] - 0s 14ms/step - loss: 0.0163\n",
      "Epoch 13/100\n",
      "20/20 [==============================] - 0s 15ms/step - loss: 0.0152\n",
      "Epoch 14/100\n",
      "20/20 [==============================] - 0s 13ms/step - loss: 0.0128\n",
      "Epoch 15/100\n",
      "20/20 [==============================] - 0s 13ms/step - loss: 0.0145\n",
      "Epoch 16/100\n",
      "20/20 [==============================] - 0s 13ms/step - loss: 0.0124\n",
      "Epoch 17/100\n",
      "20/20 [==============================] - 0s 13ms/step - loss: 0.0117\n",
      "Epoch 18/100\n",
      "20/20 [==============================] - 0s 14ms/step - loss: 0.0114\n",
      "Epoch 19/100\n",
      "20/20 [==============================] - 0s 14ms/step - loss: 0.0106\n",
      "Epoch 20/100\n",
      "20/20 [==============================] - 0s 13ms/step - loss: 0.0134\n",
      "Epoch 21/100\n",
      "20/20 [==============================] - 0s 13ms/step - loss: 0.0130\n",
      "Epoch 22/100\n",
      "20/20 [==============================] - 0s 13ms/step - loss: 0.0121\n",
      "Epoch 23/100\n",
      "20/20 [==============================] - 0s 13ms/step - loss: 0.0110\n",
      "Epoch 24/100\n",
      "20/20 [==============================] - 0s 13ms/step - loss: 0.0098\n",
      "Epoch 25/100\n",
      "20/20 [==============================] - 0s 13ms/step - loss: 0.0086\n",
      "Epoch 26/100\n",
      "20/20 [==============================] - 0s 13ms/step - loss: 0.0091\n",
      "Epoch 27/100\n",
      "20/20 [==============================] - 0s 14ms/step - loss: 0.0090\n",
      "Epoch 28/100\n",
      "20/20 [==============================] - 0s 13ms/step - loss: 0.0085\n",
      "Epoch 29/100\n",
      "20/20 [==============================] - 0s 14ms/step - loss: 0.0086\n",
      "Epoch 30/100\n",
      "20/20 [==============================] - 0s 18ms/step - loss: 0.0086\n",
      "Epoch 31/100\n",
      "20/20 [==============================] - 1s 26ms/step - loss: 0.0085\n",
      "Epoch 32/100\n",
      "20/20 [==============================] - 0s 15ms/step - loss: 0.0089\n",
      "Epoch 33/100\n",
      "20/20 [==============================] - 0s 14ms/step - loss: 0.0078\n",
      "Epoch 34/100\n",
      "20/20 [==============================] - 0s 13ms/step - loss: 0.0080\n",
      "Epoch 35/100\n",
      "20/20 [==============================] - 0s 13ms/step - loss: 0.0072\n",
      "Epoch 36/100\n",
      "20/20 [==============================] - 0s 13ms/step - loss: 0.0080\n",
      "Epoch 37/100\n",
      "20/20 [==============================] - 0s 13ms/step - loss: 0.0079\n",
      "Epoch 38/100\n",
      "20/20 [==============================] - 0s 14ms/step - loss: 0.0086\n",
      "Epoch 39/100\n",
      "20/20 [==============================] - 0s 13ms/step - loss: 0.0063\n",
      "Epoch 40/100\n",
      "20/20 [==============================] - 0s 12ms/step - loss: 0.0066\n",
      "Epoch 41/100\n",
      "20/20 [==============================] - 0s 13ms/step - loss: 0.0073\n",
      "Epoch 42/100\n",
      "20/20 [==============================] - 0s 13ms/step - loss: 0.0067\n",
      "Epoch 43/100\n",
      "20/20 [==============================] - 0s 13ms/step - loss: 0.0066\n",
      "Epoch 44/100\n",
      "20/20 [==============================] - 0s 13ms/step - loss: 0.0058\n",
      "Epoch 45/100\n",
      "20/20 [==============================] - 0s 14ms/step - loss: 0.0069\n",
      "Epoch 46/100\n",
      "20/20 [==============================] - 0s 13ms/step - loss: 0.0060\n",
      "Epoch 47/100\n",
      "20/20 [==============================] - 0s 13ms/step - loss: 0.0058\n",
      "Epoch 48/100\n",
      "20/20 [==============================] - 0s 13ms/step - loss: 0.0061\n",
      "Epoch 49/100\n",
      "20/20 [==============================] - 0s 13ms/step - loss: 0.0058\n",
      "Epoch 50/100\n",
      "20/20 [==============================] - 0s 14ms/step - loss: 0.0058\n",
      "Epoch 51/100\n",
      "20/20 [==============================] - 0s 14ms/step - loss: 0.0055\n",
      "Epoch 52/100\n",
      "20/20 [==============================] - 0s 13ms/step - loss: 0.0058\n",
      "Epoch 53/100\n",
      "20/20 [==============================] - 0s 14ms/step - loss: 0.0054\n",
      "Epoch 54/100\n",
      "20/20 [==============================] - 0s 13ms/step - loss: 0.0063\n",
      "Epoch 55/100\n",
      "20/20 [==============================] - 0s 13ms/step - loss: 0.0062\n",
      "Epoch 56/100\n",
      "20/20 [==============================] - 0s 12ms/step - loss: 0.0057\n",
      "Epoch 57/100\n",
      "20/20 [==============================] - 0s 13ms/step - loss: 0.0052\n",
      "Epoch 58/100\n",
      "20/20 [==============================] - 0s 12ms/step - loss: 0.0057\n",
      "Epoch 59/100\n",
      "20/20 [==============================] - 0s 13ms/step - loss: 0.0054\n",
      "Epoch 60/100\n",
      "20/20 [==============================] - 0s 13ms/step - loss: 0.0050\n",
      "Epoch 61/100\n",
      "20/20 [==============================] - 0s 13ms/step - loss: 0.0053\n",
      "Epoch 62/100\n",
      "20/20 [==============================] - 0s 13ms/step - loss: 0.0061\n",
      "Epoch 63/100\n",
      "20/20 [==============================] - 0s 13ms/step - loss: 0.0062\n",
      "Epoch 64/100\n",
      "20/20 [==============================] - 0s 13ms/step - loss: 0.0059\n",
      "Epoch 65/100\n",
      "20/20 [==============================] - 0s 13ms/step - loss: 0.0050\n",
      "Epoch 66/100\n",
      "20/20 [==============================] - 0s 14ms/step - loss: 0.0054\n",
      "Epoch 67/100\n",
      "20/20 [==============================] - 0s 13ms/step - loss: 0.0052\n",
      "Epoch 68/100\n",
      "20/20 [==============================] - 0s 13ms/step - loss: 0.0048\n",
      "Epoch 69/100\n",
      "20/20 [==============================] - 0s 13ms/step - loss: 0.0052\n",
      "Epoch 70/100\n",
      "20/20 [==============================] - 0s 13ms/step - loss: 0.0056\n",
      "Epoch 71/100\n",
      "20/20 [==============================] - 0s 13ms/step - loss: 0.0052\n",
      "Epoch 72/100\n",
      "20/20 [==============================] - 0s 13ms/step - loss: 0.0049\n",
      "Epoch 73/100\n",
      "20/20 [==============================] - 0s 14ms/step - loss: 0.0045\n",
      "Epoch 74/100\n",
      "20/20 [==============================] - 0s 13ms/step - loss: 0.0045\n",
      "Epoch 75/100\n",
      "20/20 [==============================] - 0s 13ms/step - loss: 0.0042\n",
      "Epoch 76/100\n",
      "20/20 [==============================] - 0s 14ms/step - loss: 0.0053\n",
      "Epoch 77/100\n",
      "20/20 [==============================] - 0s 13ms/step - loss: 0.0046\n",
      "Epoch 78/100\n",
      "20/20 [==============================] - 0s 13ms/step - loss: 0.0052\n",
      "Epoch 79/100\n",
      "20/20 [==============================] - 0s 14ms/step - loss: 0.0045\n",
      "Epoch 80/100\n",
      "20/20 [==============================] - 0s 14ms/step - loss: 0.0046\n",
      "Epoch 81/100\n",
      "20/20 [==============================] - 0s 14ms/step - loss: 0.0041\n",
      "Epoch 82/100\n",
      "20/20 [==============================] - 0s 13ms/step - loss: 0.0045\n",
      "Epoch 83/100\n",
      "20/20 [==============================] - 0s 13ms/step - loss: 0.0047\n",
      "Epoch 84/100\n",
      "20/20 [==============================] - 0s 13ms/step - loss: 0.0047\n",
      "Epoch 85/100\n",
      "20/20 [==============================] - 0s 14ms/step - loss: 0.0047\n",
      "Epoch 86/100\n",
      "20/20 [==============================] - 0s 13ms/step - loss: 0.0045\n",
      "Epoch 87/100\n",
      "20/20 [==============================] - 0s 13ms/step - loss: 0.0048\n",
      "Epoch 88/100\n",
      "20/20 [==============================] - 0s 14ms/step - loss: 0.0047\n",
      "Epoch 89/100\n",
      "20/20 [==============================] - 0s 13ms/step - loss: 0.0050\n",
      "Epoch 90/100\n",
      "20/20 [==============================] - 0s 13ms/step - loss: 0.0050\n",
      "Epoch 91/100\n",
      "20/20 [==============================] - 0s 13ms/step - loss: 0.0045\n",
      "Epoch 92/100\n",
      "20/20 [==============================] - 0s 13ms/step - loss: 0.0043\n",
      "Epoch 93/100\n",
      "20/20 [==============================] - 0s 13ms/step - loss: 0.0043\n",
      "Epoch 94/100\n",
      "20/20 [==============================] - 0s 14ms/step - loss: 0.0047\n",
      "Epoch 95/100\n",
      "20/20 [==============================] - 0s 13ms/step - loss: 0.0042\n",
      "Epoch 96/100\n",
      "20/20 [==============================] - 0s 13ms/step - loss: 0.0042\n",
      "Epoch 97/100\n",
      "20/20 [==============================] - 0s 14ms/step - loss: 0.0039\n",
      "Epoch 98/100\n",
      "20/20 [==============================] - 0s 14ms/step - loss: 0.0046\n",
      "Epoch 99/100\n",
      "20/20 [==============================] - 0s 12ms/step - loss: 0.0044\n",
      "Epoch 100/100\n",
      "20/20 [==============================] - 0s 13ms/step - loss: 0.0039\n"
     ]
    },
    {
     "data": {
      "text/plain": [
       "<keras.callbacks.History at 0x7f0be228d390>"
      ]
     },
     "execution_count": 45,
     "metadata": {},
     "output_type": "execute_result"
    }
   ],
   "source": [
    "model.fit_generator(generator, epochs=100, shuffle=False)"
   ]
  },
  {
   "cell_type": "code",
   "execution_count": null,
   "metadata": {
    "colab": {
     "base_uri": "https://localhost:8080/",
     "height": 282
    },
    "id": "-pgtWyLyYaSz",
    "outputId": "bdf02e20-9d03-4722-85fb-306b4b6b9be2"
   },
   "outputs": [
    {
     "data": {
      "text/plain": [
       "<matplotlib.axes._subplots.AxesSubplot at 0x7f0bccf65950>"
      ]
     },
     "execution_count": 46,
     "metadata": {},
     "output_type": "execute_result"
    },
    {
     "data": {
      "image/png": "[encoded data removed]",
      "text/plain": [
       "<Figure size 432x288 with 1 Axes>"
      ]
     },
     "metadata": {
      "needs_background": "light"
     },
     "output_type": "display_data"
    }
   ],
   "source": [
    "full_model_losses = pd.DataFrame(model.history.history)\n",
    "full_model_losses.plot()"
   ]
  },
  {
   "cell_type": "code",
   "execution_count": null,
   "metadata": {
    "id": "WIDuEUPhYo98"
   },
   "outputs": [],
   "source": [
    "forecast = []\n",
    "\n",
    "first_eval_batch = scaled_train[-length:]\n",
    "current_batch = first_eval_batch.reshape((1,length,n_features))\n",
    "\n",
    "for i in range(20):\n",
    "  current_pred = model.predict(current_batch)[0]\n",
    "\n",
    "  forecast.append(current_pred)\n",
    "\n",
    "  current_batch = np.append(current_batch[:,1:,:],[[current_pred]],axis=1)"
   ]
  },
  {
   "cell_type": "code",
   "execution_count": null,
   "metadata": {
    "id": "nhmrfFxmZSJY"
   },
   "outputs": [],
   "source": [
    "forecast = scaler.inverse_transform(forecast)"
   ]
  },
  {
   "cell_type": "code",
   "execution_count": null,
   "metadata": {
    "colab": {
     "base_uri": "https://localhost:8080/"
    },
    "id": "LOyxVBkgZW4z",
    "outputId": "993423ff-b0d3-4d59-900e-6c01412f132a"
   },
   "outputs": [
    {
     "data": {
      "text/plain": [
       "array([[110.35431014],\n",
       "       [112.21911787],\n",
       "       [111.3982893 ],\n",
       "       [109.64204396],\n",
       "       [111.38034356],\n",
       "       [111.59101082],\n",
       "       [112.32715974],\n",
       "       [112.31050612],\n",
       "       [112.08335364],\n",
       "       [111.60836561],\n",
       "       [112.2714364 ],\n",
       "       [113.73724916],\n",
       "       [113.97152666],\n",
       "       [114.62757959],\n",
       "       [114.08175166],\n",
       "       [114.32124355],\n",
       "       [114.31154655],\n",
       "       [115.06156584],\n",
       "       [115.80492857],\n",
       "       [115.71677981]])"
      ]
     },
     "execution_count": 49,
     "metadata": {},
     "output_type": "execute_result"
    }
   ],
   "source": [
    "forecast"
   ]
  },
  {
   "cell_type": "code",
   "execution_count": null,
   "metadata": {
    "colab": {
     "base_uri": "https://localhost:8080/"
    },
    "id": "h0jN2-mtZXfR",
    "outputId": "94160920-f4ec-46e5-ca9f-7069fa190455"
   },
   "outputs": [
    {
     "data": {
      "text/plain": [
       "array([110.35431014, 112.21911787, 111.3982893 , 109.64204396,\n",
       "       111.38034356, 111.59101082, 112.32715974, 112.31050612,\n",
       "       112.08335364, 111.60836561, 112.2714364 , 113.73724916,\n",
       "       113.97152666, 114.62757959, 114.08175166, 114.32124355,\n",
       "       114.31154655, 115.06156584, 115.80492857, 115.71677981])"
      ]
     },
     "execution_count": 50,
     "metadata": {},
     "output_type": "execute_result"
    }
   ],
   "source": [
    "forecast.flatten()"
   ]
  },
  {
   "cell_type": "code",
   "execution_count": null,
   "metadata": {
    "colab": {
     "base_uri": "https://localhost:8080/"
    },
    "id": "16y95R2CZfa6",
    "outputId": "f586d57b-fd01-43f3-d2b2-64a54a1657ff"
   },
   "outputs": [
    {
     "data": {
      "text/plain": [
       "array([[ 94.9 ],\n",
       "       [ 93.75],\n",
       "       [ 95.14],\n",
       "       [ 95.34],\n",
       "       [ 94.6 ],\n",
       "       [ 95.05],\n",
       "       [ 94.16],\n",
       "       [ 94.56],\n",
       "       [ 93.47],\n",
       "       [ 93.1 ],\n",
       "       [ 93.9 ],\n",
       "       [ 93.24],\n",
       "       [ 94.6 ],\n",
       "       [ 94.37],\n",
       "       [ 94.23],\n",
       "       [ 93.08],\n",
       "       [ 91.42],\n",
       "       [ 92.66],\n",
       "       [ 92.9 ],\n",
       "       [ 93.53],\n",
       "       [100.44],\n",
       "       [100.21],\n",
       "       [102.48],\n",
       "       [101.99],\n",
       "       [102.51],\n",
       "       [103.96],\n",
       "       [106.7 ],\n",
       "       [107.54],\n",
       "       [108.  ],\n",
       "       [107.49],\n",
       "       [106.74],\n",
       "       [107.78],\n",
       "       [108.51],\n",
       "       [107.66],\n",
       "       [104.8 ],\n",
       "       [100.46],\n",
       "       [ 98.64],\n",
       "       [ 98.98],\n",
       "       [ 94.22],\n",
       "       [ 94.19],\n",
       "       [ 97.7 ],\n",
       "       [ 95.45],\n",
       "       [ 98.79],\n",
       "       [ 96.2 ],\n",
       "       [ 95.05],\n",
       "       [ 90.03],\n",
       "       [ 94.59],\n",
       "       [ 91.04],\n",
       "       [ 83.83],\n",
       "       [ 89.25],\n",
       "       [ 84.46],\n",
       "       [ 90.39],\n",
       "       [ 91.5 ],\n",
       "       [ 94.05],\n",
       "       [ 92.3 ],\n",
       "       [ 95.14],\n",
       "       [ 97.  ],\n",
       "       [ 94.29],\n",
       "       [ 97.77],\n",
       "       [ 95.  ],\n",
       "       [ 98.2 ],\n",
       "       [ 97.49],\n",
       "       [ 95.39],\n",
       "       [ 95.94],\n",
       "       [ 95.33],\n",
       "       [ 99.88],\n",
       "       [100.58],\n",
       "       [102.15],\n",
       "       [102.14],\n",
       "       [108.44],\n",
       "       [114.17],\n",
       "       [115.38],\n",
       "       [120.41],\n",
       "       [118.75],\n",
       "       [119.68],\n",
       "       [116.41],\n",
       "       [118.17],\n",
       "       [119.97],\n",
       "       [120.51],\n",
       "       [118.8 ],\n",
       "       [115.7 ],\n",
       "       [118.64],\n",
       "       [123.7 ],\n",
       "       [114.3 ],\n",
       "       [115.8 ],\n",
       "       [115.89],\n",
       "       [117.56],\n",
       "       [118.38],\n",
       "       [118.98],\n",
       "       [120.45],\n",
       "       [117.85],\n",
       "       [118.4 ],\n",
       "       [119.44],\n",
       "       [120.49],\n",
       "       [121.31],\n",
       "       [122.47],\n",
       "       [124.9 ],\n",
       "       [122.34],\n",
       "       [121.84],\n",
       "       [121.09],\n",
       "       [120.52],\n",
       "       [120.06],\n",
       "       [122.12],\n",
       "       [123.55],\n",
       "       [123.62],\n",
       "       [123.92],\n",
       "       [123.03],\n",
       "       [124.15],\n",
       "       [126.2 ],\n",
       "       [130.04],\n",
       "       [132.37],\n",
       "       [127.9 ],\n",
       "       [127.25],\n",
       "       [128.63],\n",
       "       [130.76],\n",
       "       [132.05],\n",
       "       [132.7 ],\n",
       "       [133.75],\n",
       "       [135.69],\n",
       "       [138.22],\n",
       "       [136.72],\n",
       "       [137.73],\n",
       "       [134.64],\n",
       "       [134.02],\n",
       "       [137.94],\n",
       "       [143.94],\n",
       "       [144.51],\n",
       "       [152.85],\n",
       "       [150.01],\n",
       "       [154.06],\n",
       "       [159.13],\n",
       "       [160.  ],\n",
       "       [155.2 ],\n",
       "       [154.2 ],\n",
       "       [150.44],\n",
       "       [150.  ],\n",
       "       [148.1 ],\n",
       "       [159.84],\n",
       "       [156.91],\n",
       "       [155.  ],\n",
       "       [149.33],\n",
       "       [150.45],\n",
       "       [152.76],\n",
       "       [150.02],\n",
       "       [151.68],\n",
       "       [152.59],\n",
       "       [158.23],\n",
       "       [155.59],\n",
       "       [156.94],\n",
       "       [160.25],\n",
       "       [161.25],\n",
       "       [158.37],\n",
       "       [157.41],\n",
       "       [154.03],\n",
       "       [158.11],\n",
       "       [158.05],\n",
       "       [157.4 ],\n",
       "       [159.12],\n",
       "       [165.62],\n",
       "       [163.02],\n",
       "       [164.87],\n",
       "       [164.24],\n",
       "       [165.37],\n",
       "       [167.32],\n",
       "       [172.09],\n",
       "       [170.  ],\n",
       "       [170.09],\n",
       "       [172.55],\n",
       "       [174.96],\n",
       "       [176.57],\n",
       "       [168.4 ],\n",
       "       [164.73],\n",
       "       [157.49],\n",
       "       [163.43],\n",
       "       [158.76],\n",
       "       [155.81],\n",
       "       [155.15],\n",
       "       [157.81],\n",
       "       [153.91],\n",
       "       [150.44],\n",
       "       [147.75],\n",
       "       [148.02],\n",
       "       [156.45],\n",
       "       [149.99],\n",
       "       [150.99],\n",
       "       [154.76],\n",
       "       [158.7 ],\n",
       "       [157.24],\n",
       "       [157.44],\n",
       "       [161.06],\n",
       "       [156.25],\n",
       "       [159.96],\n",
       "       [155.  ],\n",
       "       [159.78],\n",
       "       [159.53],\n",
       "       [164.33],\n",
       "       [172.15],\n",
       "       [172.18],\n",
       "       [168.19],\n",
       "       [166.93],\n",
       "       [163.64],\n",
       "       [160.36],\n",
       "       [160.85],\n",
       "       [159.25],\n",
       "       [158.82],\n",
       "       [160.22],\n",
       "       [160.35],\n",
       "       [164.32],\n",
       "       [158.14],\n",
       "       [160.55],\n",
       "       [151.81],\n",
       "       [150.22],\n",
       "       [152.42],\n",
       "       [162.06],\n",
       "       [166.1 ],\n",
       "       [165.57],\n",
       "       [157.19],\n",
       "       [151.75],\n",
       "       [156.87],\n",
       "       [155.51],\n",
       "       [156.44],\n",
       "       [156.55],\n",
       "       [156.78],\n",
       "       [155.27],\n",
       "       [155.85],\n",
       "       [154.97],\n",
       "       [154.92],\n",
       "       [155.9 ],\n",
       "       [159.25],\n",
       "       [159.77],\n",
       "       [158.4 ],\n",
       "       [161.  ],\n",
       "       [160.18],\n",
       "       [159.34],\n",
       "       [158.13],\n",
       "       [157.9 ],\n",
       "       [158.86],\n",
       "       [155.21],\n",
       "       [155.07],\n",
       "       [155.82],\n",
       "       [157.85],\n",
       "       [158.26],\n",
       "       [162.05],\n",
       "       [161.8 ],\n",
       "       [160.08],\n",
       "       [160.31],\n",
       "       [160.33],\n",
       "       [159.26],\n",
       "       [158.63],\n",
       "       [164.2 ],\n",
       "       [166.1 ],\n",
       "       [164.29],\n",
       "       [162.85],\n",
       "       [159.33],\n",
       "       [160.93],\n",
       "       [156.92],\n",
       "       [158.11],\n",
       "       [159.13],\n",
       "       [155.71],\n",
       "       [156.04],\n",
       "       [158.29],\n",
       "       [156.37],\n",
       "       [155.21],\n",
       "       [156.04],\n",
       "       [163.17],\n",
       "       [165.35],\n",
       "       [164.61],\n",
       "       [164.7 ],\n",
       "       [166.31],\n",
       "       [161.63],\n",
       "       [161.88],\n",
       "       [160.31],\n",
       "       [167.14],\n",
       "       [169.  ],\n",
       "       [165.63],\n",
       "       [166.55],\n",
       "       [167.61],\n",
       "       [166.15],\n",
       "       [165.25],\n",
       "       [164.33],\n",
       "       [163.11],\n",
       "       [163.89],\n",
       "       [163.45],\n",
       "       [165.43],\n",
       "       [166.41],\n",
       "       [162.5 ],\n",
       "       [159.04],\n",
       "       [159.72],\n",
       "       [157.98],\n",
       "       [152.86],\n",
       "       [154.65],\n",
       "       [157.31],\n",
       "       [154.73],\n",
       "       [150.25],\n",
       "       [148.88],\n",
       "       [150.02],\n",
       "       [147.6 ],\n",
       "       [153.14],\n",
       "       [152.88],\n",
       "       [155.68],\n",
       "       [154.47],\n",
       "       [154.08],\n",
       "       [154.59],\n",
       "       [156.79],\n",
       "       [151.4 ],\n",
       "       [153.75],\n",
       "       [155.54],\n",
       "       [156.88],\n",
       "       [154.35],\n",
       "       [152.31],\n",
       "       [152.6 ],\n",
       "       [153.79],\n",
       "       [152.76],\n",
       "       [154.7 ],\n",
       "       [158.05],\n",
       "       [161.34],\n",
       "       [161.19],\n",
       "       [163.97],\n",
       "       [164.97],\n",
       "       [168.61],\n",
       "       [168.97],\n",
       "       [170.  ],\n",
       "       [166.65],\n",
       "       [168.95],\n",
       "       [169.97],\n",
       "       [168.6 ],\n",
       "       [166.73],\n",
       "       [168.1 ],\n",
       "       [165.45],\n",
       "       [167.04],\n",
       "       [170.45],\n",
       "       [170.87],\n",
       "       [172.93],\n",
       "       [173.57],\n",
       "       [173.37],\n",
       "       [169.32],\n",
       "       [165.59],\n",
       "       [163.53],\n",
       "       [165.32],\n",
       "       [164.58],\n",
       "       [159.52],\n",
       "       [161.2 ],\n",
       "       [157.6 ],\n",
       "       [158.07],\n",
       "       [161.15],\n",
       "       [163.52],\n",
       "       [161.61],\n",
       "       [161.59],\n",
       "       [162.38],\n",
       "       [160.15],\n",
       "       [162.25],\n",
       "       [162.95],\n",
       "       [163.26],\n",
       "       [161.51],\n",
       "       [161.15],\n",
       "       [160.93],\n",
       "       [161.7 ],\n",
       "       [159.35],\n",
       "       [160.31],\n",
       "       [159.9 ],\n",
       "       [163.21],\n",
       "       [164.06],\n",
       "       [167.48],\n",
       "       [167.34],\n",
       "       [169.19],\n",
       "       [169.16],\n",
       "       [170.76],\n",
       "       [174.46],\n",
       "       [174.34],\n",
       "       [172.7 ],\n",
       "       [175.27],\n",
       "       [175.19],\n",
       "       [172.45],\n",
       "       [170.07],\n",
       "       [172.19],\n",
       "       [172.41],\n",
       "       [172.01],\n",
       "       [171.65],\n",
       "       [175.55],\n",
       "       [183.79],\n",
       "       [184.83],\n",
       "       [186.57],\n",
       "       [185.97],\n",
       "       [185.93],\n",
       "       [183.87],\n",
       "       [184.08],\n",
       "       [181.56],\n",
       "       [178.68],\n",
       "       [177.48],\n",
       "       [178.66],\n",
       "       [179.26],\n",
       "       [181.9 ],\n",
       "       [182.83],\n",
       "       [184.99],\n",
       "       [181.32],\n",
       "       [181.52],\n",
       "       [180.  ],\n",
       "       [166.38],\n",
       "       [166.57],\n",
       "       [168.31],\n",
       "       [167.74],\n",
       "       [168.8 ],\n",
       "       [167.25],\n",
       "       [167.09],\n",
       "       [166.03],\n",
       "       [164.61],\n",
       "       [165.18],\n",
       "       [164.7 ],\n",
       "       [164.95],\n",
       "       [162.1 ],\n",
       "       [160.06],\n",
       "       [159.39],\n",
       "       [160.  ],\n",
       "       [163.29],\n",
       "       [165.29],\n",
       "       [164.96],\n",
       "       [165.8 ],\n",
       "       [167.48],\n",
       "       [171.08],\n",
       "       [173.54],\n",
       "       [173.95],\n",
       "       [173.16],\n",
       "       [173.9 ],\n",
       "       [175.46],\n",
       "       [176.28],\n",
       "       [174.21],\n",
       "       [173.46],\n",
       "       [172.86],\n",
       "       [172.5 ],\n",
       "       [173.79],\n",
       "       [174.41],\n",
       "       [173.13],\n",
       "       [167.79],\n",
       "       [167.18],\n",
       "       [169.  ],\n",
       "       [170.8 ],\n",
       "       [171.28],\n",
       "       [170.29],\n",
       "       [165.8 ],\n",
       "       [165.06],\n",
       "       [164.25],\n",
       "       [164.16],\n",
       "       [159.49],\n",
       "       [161.05],\n",
       "       [163.1 ],\n",
       "       [165.12],\n",
       "       [164.43],\n",
       "       [162.31],\n",
       "       [162.37],\n",
       "       [164.21],\n",
       "       [164.99],\n",
       "       [170.45],\n",
       "       [172.34],\n",
       "       [172.21],\n",
       "       [170.75],\n",
       "       [171.75],\n",
       "       [166.78],\n",
       "       [166.02],\n",
       "       [168.8 ],\n",
       "       [169.62],\n",
       "       [172.33],\n",
       "       [168.62],\n",
       "       [165.91],\n",
       "       [165.64],\n",
       "       [169.2 ],\n",
       "       [173.85],\n",
       "       [175.95],\n",
       "       [174.45],\n",
       "       [178.81],\n",
       "       [174.1 ],\n",
       "       [173.62],\n",
       "       [176.26],\n",
       "       [177.28],\n",
       "       [177.03],\n",
       "       [177.45],\n",
       "       [184.8 ],\n",
       "       [183.83],\n",
       "       [178.63],\n",
       "       [179.  ],\n",
       "       [179.02],\n",
       "       [175.23],\n",
       "       [178.08],\n",
       "       [175.35],\n",
       "       [172.19],\n",
       "       [171.87],\n",
       "       [169.49],\n",
       "       [171.37],\n",
       "       [176.16],\n",
       "       [176.16],\n",
       "       [174.17],\n",
       "       [172.21],\n",
       "       [169.57],\n",
       "       [169.09],\n",
       "       [173.31],\n",
       "       [168.87],\n",
       "       [170.02],\n",
       "       [167.08],\n",
       "       [170.42],\n",
       "       [171.04],\n",
       "       [171.07],\n",
       "       [169.67],\n",
       "       [170.66],\n",
       "       [169.2 ],\n",
       "       [168.64],\n",
       "       [166.72],\n",
       "       [170.4 ],\n",
       "       [167.52],\n",
       "       [164.36],\n",
       "       [163.25],\n",
       "       [162.55],\n",
       "       [161.49],\n",
       "       [165.36],\n",
       "       [165.21],\n",
       "       [161.21],\n",
       "       [162.14],\n",
       "       [158.92],\n",
       "       [156.3 ],\n",
       "       [151.67],\n",
       "       [142.64],\n",
       "       [144.54],\n",
       "       [139.99],\n",
       "       [138.87],\n",
       "       [139.64],\n",
       "       [143.98],\n",
       "       [149.57],\n",
       "       [151.19],\n",
       "       [150.61],\n",
       "       [138.85],\n",
       "       [157.64],\n",
       "       [157.94],\n",
       "       [161.41],\n",
       "       [161.19],\n",
       "       [159.  ],\n",
       "       [153.29],\n",
       "       [155.17],\n",
       "       [156.51],\n",
       "       [158.1 ],\n",
       "       [154.65],\n",
       "       [152.6 ],\n",
       "       [150.2 ],\n",
       "       [144.83],\n",
       "       [151.36],\n",
       "       [153.79],\n",
       "       [153.56],\n",
       "       [151.14],\n",
       "       [152.05],\n",
       "       [147.9 ],\n",
       "       [145.64],\n",
       "       [137.45],\n",
       "       [136.01],\n",
       "       [139.28],\n",
       "       [146.82],\n",
       "       [145.52],\n",
       "       [141.85],\n",
       "       [147.37],\n",
       "       [153.1 ],\n",
       "       [157.24],\n",
       "       [161.25],\n",
       "       [161.49],\n",
       "       [164.89],\n",
       "       [163.41],\n",
       "       [163.65],\n",
       "       [164.77],\n",
       "       [168.99],\n",
       "       [169.31],\n",
       "       [166.3 ],\n",
       "       [163.  ],\n",
       "       [163.56],\n",
       "       [168.35],\n",
       "       [164.06],\n",
       "       [158.76],\n",
       "       [157.78],\n",
       "       [154.46],\n",
       "       [151.12],\n",
       "       [150.79],\n",
       "       [155.54],\n",
       "       [151.71],\n",
       "       [152.78],\n",
       "       [158.12],\n",
       "       [154.  ],\n",
       "       [148.3 ],\n",
       "       [144.35],\n",
       "       [146.07],\n",
       "       [139.39],\n",
       "       [138.17],\n",
       "       [144.6 ],\n",
       "       [124.28],\n",
       "       [124.5 ],\n",
       "       [124.25],\n",
       "       [125.93],\n",
       "       [116.41],\n",
       "       [114.77],\n",
       "       [108.79],\n",
       "       [108.86],\n",
       "       [105.37],\n",
       "       [106.93],\n",
       "       [113.06],\n",
       "       [110.81],\n",
       "       [115.37],\n",
       "       [107.11],\n",
       "       [107.32],\n",
       "       [107.59],\n",
       "       [107.56],\n",
       "       [104.1 ],\n",
       "       [106.78],\n",
       "       [111.08],\n",
       "       [115.15],\n",
       "       [120.21],\n",
       "       [121.68],\n",
       "       [125.51],\n",
       "       [122.35],\n",
       "       [124.79],\n",
       "       [123.  ],\n",
       "       [121.18],\n",
       "       [116.15],\n",
       "       [109.65],\n",
       "       [103.67],\n",
       "       [102.31],\n",
       "       [107.67],\n",
       "       [103.66],\n",
       "       [106.22],\n",
       "       [108.68],\n",
       "       [108.95],\n",
       "       [112.44],\n",
       "       [116.46],\n",
       "       [113.22],\n",
       "       [107.4 ],\n",
       "       [108.92],\n",
       "       [106.21],\n",
       "       [109.56],\n",
       "       [113.5 ],\n",
       "       [114.33],\n",
       "       [116.33],\n",
       "       [115.54],\n",
       "       [111.75],\n",
       "       [109.22],\n",
       "       [110.4 ],\n",
       "       [110.63],\n",
       "       [113.55],\n",
       "       [113.76],\n",
       "       [118.21],\n",
       "       [122.77],\n",
       "       [124.63],\n",
       "       [122.42],\n",
       "       [121.14],\n",
       "       [114.81],\n",
       "       [120.97],\n",
       "       [122.28],\n",
       "       [134.95],\n",
       "       [135.39],\n",
       "       [134.16]])"
      ]
     },
     "execution_count": 51,
     "metadata": {},
     "output_type": "execute_result"
    }
   ],
   "source": [
    "df_array = np.array(aapl_close)\n",
    "df_array"
   ]
  },
  {
   "cell_type": "code",
   "execution_count": null,
   "metadata": {
    "id": "tRSW6xQMZs9g"
   },
   "outputs": [],
   "source": [
    "full_data = pd.DataFrame(np.concatenate((df_array.flatten(),forecast.flatten())))"
   ]
  },
  {
   "cell_type": "code",
   "execution_count": null,
   "metadata": {
    "colab": {
     "base_uri": "https://localhost:8080/",
     "height": 282
    },
    "id": "PTOSxR9eZ7Fl",
    "outputId": "9c5f139a-cd4f-4c6f-c51e-9cdaf3ebc7b3"
   },
   "outputs": [
    {
     "data": {
      "text/plain": [
       "<matplotlib.axes._subplots.AxesSubplot at 0x7f0be21708d0>"
      ]
     },
     "execution_count": 53,
     "metadata": {},
     "output_type": "execute_result"
    },
    {
     "data": {
      "image/png": "[encoded data removed]",
      "text/plain": [
       "<Figure size 432x288 with 1 Axes>"
      ]
     },
     "metadata": {
      "needs_background": "light"
     },
     "output_type": "display_data"
    }
   ],
   "source": [
    "full_data.plot()"
   ]
  },
  {
   "cell_type": "code",
   "execution_count": null,
   "metadata": {
    "id": "oonBBNc4Z-MB"
   },
   "outputs": [],
   "source": [
    "#LSTM MODEL를 사용하여 예측 시도"
   ]
  },
  {
   "cell_type": "code",
   "execution_count": null,
   "metadata": {
    "id": "qAQefNlKaFuV"
   },
   "outputs": [],
   "source": [
    "from tensorflow.keras.callbacks import EarlyStopping\n",
    "early_stop = EarlyStopping(monitor='val_loss', patience=2)"
   ]
  },
  {
   "cell_type": "code",
   "execution_count": null,
   "metadata": {
    "colab": {
     "base_uri": "https://localhost:8080/"
    },
    "id": "iolgEsMhaR_D",
    "outputId": "30469092-746e-4c8c-e72e-852843392f14"
   },
   "outputs": [
    {
     "data": {
      "text/plain": [
       "16"
      ]
     },
     "execution_count": 56,
     "metadata": {},
     "output_type": "execute_result"
    }
   ],
   "source": [
    "length"
   ]
  },
  {
   "cell_type": "code",
   "execution_count": null,
   "metadata": {
    "colab": {
     "base_uri": "https://localhost:8080/"
    },
    "id": "xnjmOFfjaS0V",
    "outputId": "c7143200-6749-41e3-e61b-44b6bb1f0b26"
   },
   "outputs": [
    {
     "data": {
      "text/plain": [
       "(21, 1)"
      ]
     },
     "execution_count": 57,
     "metadata": {},
     "output_type": "execute_result"
    }
   ],
   "source": [
    "scaled_test.shape"
   ]
  },
  {
   "cell_type": "code",
   "execution_count": null,
   "metadata": {
    "id": "ks2xZPPpa1Hx"
   },
   "outputs": [],
   "source": [
    "length = 15\n",
    "generator = TimeseriesGenerator(scaled_train,scaled_train,\n",
    "                                length=length, batch_size=32)\n",
    "\n",
    "validation_generator = TimeseriesGenerator(scaled_test, scaled_test,\n",
    "                                           length=length, batch_size=32)"
   ]
  },
  {
   "cell_type": "code",
   "execution_count": null,
   "metadata": {
    "id": "uJc0CfuKb1g-"
   },
   "outputs": [],
   "source": [
    "model = Sequential()\n",
    "model.add(LSTM(30,input_shape=(length, n_features)))\n",
    "model.add(Dropout(rate=0.2))\n",
    "model.add(Dense(1))\n",
    "model.compile(optimizer='adam',loss='mse')\n",
    "\n",
    "#RNN과 비슷한 요소로 모델구성"
   ]
  },
  {
   "cell_type": "code",
   "execution_count": null,
   "metadata": {
    "colab": {
     "base_uri": "https://localhost:8080/"
    },
    "id": "8TEdCRgvckfv",
    "outputId": "d1836489-4008-48a3-afad-0a99c24b93c8"
   },
   "outputs": [
    {
     "name": "stdout",
     "output_type": "stream",
     "text": [
      "Epoch 1/100\n"
     ]
    },
    {
     "name": "stderr",
     "output_type": "stream",
     "text": [
      "/usr/local/lib/python3.7/dist-packages/ipykernel_launcher.py:3: UserWarning: `Model.fit_generator` is deprecated and will be removed in a future version. Please use `Model.fit`, which supports generators.\n",
      "  This is separate from the ipykernel package so we can avoid doing imports until\n"
     ]
    },
    {
     "name": "stdout",
     "output_type": "stream",
     "text": [
      "20/20 [==============================] - 3s 27ms/step - loss: 0.2812 - val_loss: 0.0150\n",
      "Epoch 2/100\n",
      "20/20 [==============================] - 0s 6ms/step - loss: 0.0216 - val_loss: 0.0080\n",
      "Epoch 3/100\n",
      "20/20 [==============================] - 0s 6ms/step - loss: 0.0195 - val_loss: 0.0049\n",
      "Epoch 4/100\n",
      "20/20 [==============================] - 0s 5ms/step - loss: 0.0163 - val_loss: 0.0048\n",
      "Epoch 5/100\n",
      "20/20 [==============================] - 0s 6ms/step - loss: 0.0141 - val_loss: 0.0048\n",
      "Epoch 6/100\n",
      "20/20 [==============================] - 0s 6ms/step - loss: 0.0142 - val_loss: 0.0052\n"
     ]
    },
    {
     "data": {
      "text/plain": [
       "<keras.callbacks.History at 0x7f0c500f0bd0>"
      ]
     },
     "execution_count": 60,
     "metadata": {},
     "output_type": "execute_result"
    }
   ],
   "source": [
    "model.fit_generator(generator, epochs=100,\n",
    "                    validation_data = validation_generator,\n",
    "                    callbacks = [early_stop], shuffle = False)\n",
    "#모델 학습시작"
   ]
  },
  {
   "cell_type": "code",
   "execution_count": null,
   "metadata": {
    "colab": {
     "base_uri": "https://localhost:8080/",
     "height": 282
    },
    "id": "9kZ9jiXqcSnp",
    "outputId": "1d2cadaa-439e-49b3-9cb0-2e49e8eeae34"
   },
   "outputs": [
    {
     "data": {
      "text/plain": [
       "<matplotlib.axes._subplots.AxesSubplot at 0x7f0bdbecbbd0>"
      ]
     },
     "execution_count": 61,
     "metadata": {},
     "output_type": "execute_result"
    },
    {
     "data": {
      "image/png": "[encoded data removed]",
      "text/plain": [
       "<Figure size 432x288 with 1 Axes>"
      ]
     },
     "metadata": {
      "needs_background": "light"
     },
     "output_type": "display_data"
    }
   ],
   "source": [
    "losses = pd.DataFrame(model.history.history)\n",
    "losses.plot()\n",
    "#트레이닝데이터와 교차검증 실시"
   ]
  },
  {
   "cell_type": "code",
   "execution_count": null,
   "metadata": {
    "id": "4GClypynch_g"
   },
   "outputs": [],
   "source": [
    "test_predictions = []\n",
    "first_eval_batch = scaled_train[-length:]\n",
    "current_batch = first_eval_batch.reshape((1,length,n_features))\n",
    "\n",
    "for i in range(len(test)):\n",
    "  current_pred = model.predict(current_batch)[0]\n",
    "\n",
    "  test_predictions.append(current_pred)\n",
    "\n",
    "  current_batch = np.append(current_batch[:,1:,:],[[current_pred]],axis=1)\n",
    "#다시 GreatLearning함수 사용하여 LSTM 예측시도"
   ]
  },
  {
   "cell_type": "code",
   "execution_count": null,
   "metadata": {
    "colab": {
     "base_uri": "https://localhost:8080/",
     "height": 605
    },
    "id": "cZ-UVNNEepY-",
    "outputId": "95e97f03-43d3-445e-d8f0-c85921997069"
   },
   "outputs": [
    {
     "name": "stderr",
     "output_type": "stream",
     "text": [
      "/usr/local/lib/python3.7/dist-packages/ipykernel_launcher.py:2: SettingWithCopyWarning: \n",
      "A value is trying to be set on a copy of a slice from a DataFrame.\n",
      "Try using .loc[row_indexer,col_indexer] = value instead\n",
      "\n",
      "See the caveats in the documentation: https://pandas.pydata.org/pandas-docs/stable/user_guide/indexing.html#returning-a-view-versus-a-copy\n",
      "  \n"
     ]
    },
    {
     "data": {
      "text/plain": [
       "<matplotlib.axes._subplots.AxesSubplot at 0x7f0bdc5c0810>"
      ]
     },
     "execution_count": 63,
     "metadata": {},
     "output_type": "execute_result"
    },
    {
     "data": {
      "image/png": "[encoded data removed]",
      "text/plain": [
       "<Figure size 864x576 with 1 Axes>"
      ]
     },
     "metadata": {
      "needs_background": "light"
     },
     "output_type": "display_data"
    }
   ],
   "source": [
    "true_predictions = scaler.inverse_transform(test_predictions)\n",
    "test['LSTM_predictions'] = true_predictions\n",
    "test.plot(figsize=(12,8))\n",
    "#어느정도 트렌드는 따라 가지만 여러방면으로 돌리면 가끔씩 트렌트를 못따라감"
   ]
  },
  {
   "cell_type": "code",
   "execution_count": null,
   "metadata": {
    "id": "4jjr5tVyfT4x"
   },
   "outputs": [],
   "source": [
    "forecast = []\n",
    "\n",
    "first_eval_batch = scaled_train[-length:]\n",
    "current_batch = first_eval_batch.reshape((1,length,n_features))\n",
    "\n",
    "for i in range(15):\n",
    "  current_pred = model.predict(current_batch)[0]\n",
    "  forecast.append(current_pred)\n",
    "  current_batch = np.append(current_batch[:,1:,:],[[current_pred]], axis=1)"
   ]
  },
  {
   "cell_type": "code",
   "execution_count": null,
   "metadata": {
    "id": "0Gnzk8fUn1Fm"
   },
   "outputs": [],
   "source": [
    "forecast = scaler.inverse_transform(forecast)"
   ]
  },
  {
   "cell_type": "code",
   "execution_count": null,
   "metadata": {
    "id": "97-DvpcGn5Kq"
   },
   "outputs": [],
   "source": [
    "full_data = pd.DataFrame(np.concatenate((df_array.flatten(),forecast.flatten())))"
   ]
  },
  {
   "cell_type": "code",
   "execution_count": null,
   "metadata": {
    "colab": {
     "base_uri": "https://localhost:8080/",
     "height": 282
    },
    "id": "570IqdgyoEb4",
    "outputId": "4c6d9cfb-3dee-4ca5-fb4e-5969cd864973"
   },
   "outputs": [
    {
     "data": {
      "text/plain": [
       "<matplotlib.axes._subplots.AxesSubplot at 0x7f0bdcf3ed50>"
      ]
     },
     "execution_count": 67,
     "metadata": {},
     "output_type": "execute_result"
    },
    {
     "data": {
      "image/png": "[encoded data removed]",
      "text/plain": [
       "<Figure size 432x288 with 1 Axes>"
      ]
     },
     "metadata": {
      "needs_background": "light"
     },
     "output_type": "display_data"
    }
   ],
   "source": [
    "full_data.plot()"
   ]
  },
  {
   "cell_type": "code",
   "execution_count": null,
   "metadata": {
    "colab": {
     "base_uri": "https://localhost:8080/"
    },
    "id": "i2XEqx2_oI35",
    "outputId": "49ab02ba-8382-4fff-b75a-545c1146f3ae"
   },
   "outputs": [
    {
     "data": {
      "text/plain": [
       "array([[116.66054941],\n",
       "       [117.10566563],\n",
       "       [117.81457904],\n",
       "       [118.62924708],\n",
       "       [119.43659721],\n",
       "       [120.32330848],\n",
       "       [121.19300177],\n",
       "       [122.04274683],\n",
       "       [122.89367685],\n",
       "       [123.7052432 ],\n",
       "       [124.47465038],\n",
       "       [125.28372742],\n",
       "       [126.14867477],\n",
       "       [126.97695292],\n",
       "       [127.8210243 ]])"
      ]
     },
     "execution_count": 68,
     "metadata": {},
     "output_type": "execute_result"
    }
   ],
   "source": [
    "forecast"
   ]
  },
  {
   "cell_type": "code",
   "execution_count": null,
   "metadata": {
    "colab": {
     "base_uri": "https://localhost:8080/",
     "height": 990
    },
    "id": "Ph1iNeIWoKLP",
    "outputId": "26d8fb4d-894c-486d-9092-149e875d5ae0"
   },
   "outputs": [
    {
     "data": {
      "text/html": [
       "\n",
       "  <div id=\"df-10eea7dd-ea07-4b32-9d94-7103d60bcdc6\">\n",
       "    <div class=\"colab-df-container\">\n",
       "      <div>\n",
       "<style scoped>\n",
       "    .dataframe tbody tr th:only-of-type {\n",
       "        vertical-align: middle;\n",
       "    }\n",
       "\n",
       "    .dataframe tbody tr th {\n",
       "        vertical-align: top;\n",
       "    }\n",
       "\n",
       "    .dataframe thead th {\n",
       "        text-align: right;\n",
       "    }\n",
       "</style>\n",
       "<table border=\"1\" class=\"dataframe\">\n",
       "  <thead>\n",
       "    <tr style=\"text-align: right;\">\n",
       "      <th></th>\n",
       "      <th>0</th>\n",
       "    </tr>\n",
       "  </thead>\n",
       "  <tbody>\n",
       "    <tr>\n",
       "      <th>636</th>\n",
       "      <td>110.400000</td>\n",
       "    </tr>\n",
       "    <tr>\n",
       "      <th>637</th>\n",
       "      <td>110.630000</td>\n",
       "    </tr>\n",
       "    <tr>\n",
       "      <th>638</th>\n",
       "      <td>113.550000</td>\n",
       "    </tr>\n",
       "    <tr>\n",
       "      <th>639</th>\n",
       "      <td>113.760000</td>\n",
       "    </tr>\n",
       "    <tr>\n",
       "      <th>640</th>\n",
       "      <td>118.210000</td>\n",
       "    </tr>\n",
       "    <tr>\n",
       "      <th>641</th>\n",
       "      <td>122.770000</td>\n",
       "    </tr>\n",
       "    <tr>\n",
       "      <th>642</th>\n",
       "      <td>124.630000</td>\n",
       "    </tr>\n",
       "    <tr>\n",
       "      <th>643</th>\n",
       "      <td>122.420000</td>\n",
       "    </tr>\n",
       "    <tr>\n",
       "      <th>644</th>\n",
       "      <td>121.140000</td>\n",
       "    </tr>\n",
       "    <tr>\n",
       "      <th>645</th>\n",
       "      <td>114.810000</td>\n",
       "    </tr>\n",
       "    <tr>\n",
       "      <th>646</th>\n",
       "      <td>120.970000</td>\n",
       "    </tr>\n",
       "    <tr>\n",
       "      <th>647</th>\n",
       "      <td>122.280000</td>\n",
       "    </tr>\n",
       "    <tr>\n",
       "      <th>648</th>\n",
       "      <td>134.950000</td>\n",
       "    </tr>\n",
       "    <tr>\n",
       "      <th>649</th>\n",
       "      <td>135.390000</td>\n",
       "    </tr>\n",
       "    <tr>\n",
       "      <th>650</th>\n",
       "      <td>134.160000</td>\n",
       "    </tr>\n",
       "    <tr>\n",
       "      <th>651</th>\n",
       "      <td>116.660549</td>\n",
       "    </tr>\n",
       "    <tr>\n",
       "      <th>652</th>\n",
       "      <td>117.105666</td>\n",
       "    </tr>\n",
       "    <tr>\n",
       "      <th>653</th>\n",
       "      <td>117.814579</td>\n",
       "    </tr>\n",
       "    <tr>\n",
       "      <th>654</th>\n",
       "      <td>118.629247</td>\n",
       "    </tr>\n",
       "    <tr>\n",
       "      <th>655</th>\n",
       "      <td>119.436597</td>\n",
       "    </tr>\n",
       "    <tr>\n",
       "      <th>656</th>\n",
       "      <td>120.323308</td>\n",
       "    </tr>\n",
       "    <tr>\n",
       "      <th>657</th>\n",
       "      <td>121.193002</td>\n",
       "    </tr>\n",
       "    <tr>\n",
       "      <th>658</th>\n",
       "      <td>122.042747</td>\n",
       "    </tr>\n",
       "    <tr>\n",
       "      <th>659</th>\n",
       "      <td>122.893677</td>\n",
       "    </tr>\n",
       "    <tr>\n",
       "      <th>660</th>\n",
       "      <td>123.705243</td>\n",
       "    </tr>\n",
       "    <tr>\n",
       "      <th>661</th>\n",
       "      <td>124.474650</td>\n",
       "    </tr>\n",
       "    <tr>\n",
       "      <th>662</th>\n",
       "      <td>125.283727</td>\n",
       "    </tr>\n",
       "    <tr>\n",
       "      <th>663</th>\n",
       "      <td>126.148675</td>\n",
       "    </tr>\n",
       "    <tr>\n",
       "      <th>664</th>\n",
       "      <td>126.976953</td>\n",
       "    </tr>\n",
       "    <tr>\n",
       "      <th>665</th>\n",
       "      <td>127.821024</td>\n",
       "    </tr>\n",
       "  </tbody>\n",
       "</table>\n",
       "</div>\n",
       "      <button class=\"colab-df-convert\" onclick=\"convertToInteractive('df-10eea7dd-ea07-4b32-9d94-7103d60bcdc6')\"\n",
       "              title=\"Convert this dataframe to an interactive table.\"\n",
       "              style=\"display:none;\">\n",
       "        \n",
       "  <svg xmlns=\"http://www.w3.org/2000/svg\" height=\"24px\"viewBox=\"0 0 24 24\"\n",
       "       width=\"24px\">\n",
       "    <path d=\"M0 0h24v24H0V0z\" fill=\"none\"/>\n",
       "    <path d=\"M18.56 5.44l.94 2.06.94-2.06 2.06-.94-2.06-.94-.94-2.06-.94 2.06-2.06.94zm-11 1L8.5 8.5l.94-2.06 2.06-.94-2.06-.94L8.5 2.5l-.94 2.06-2.06.94zm10 10l.94 2.06.94-2.06 2.06-.94-2.06-.94-.94-2.06-.94 2.06-2.06.94z\"/><path d=\"M17.41 7.96l-1.37-1.37c-.4-.4-.92-.59-1.43-.59-.52 0-1.04.2-1.43.59L10.3 9.45l-7.72 7.72c-.78.78-.78 2.05 0 2.83L4 21.41c.39.39.9.59 1.41.59.51 0 1.02-.2 1.41-.59l7.78-7.78 2.81-2.81c.8-.78.8-2.07 0-2.86zM5.41 20L4 18.59l7.72-7.72 1.47 1.35L5.41 20z\"/>\n",
       "  </svg>\n",
       "      </button>\n",
       "      \n",
       "  <style>\n",
       "    .colab-df-container {\n",
       "      display:flex;\n",
       "      flex-wrap:wrap;\n",
       "      gap: 12px;\n",
       "    }\n",
       "\n",
       "    .colab-df-convert {\n",
       "      background-color: #E8F0FE;\n",
       "      border: none;\n",
       "      border-radius: 50%;\n",
       "      cursor: pointer;\n",
       "      display: none;\n",
       "      fill: #1967D2;\n",
       "      height: 32px;\n",
       "      padding: 0 0 0 0;\n",
       "      width: 32px;\n",
       "    }\n",
       "\n",
       "    .colab-df-convert:hover {\n",
       "      background-color: #E2EBFA;\n",
       "      box-shadow: 0px 1px 2px rgba(60, 64, 67, 0.3), 0px 1px 3px 1px rgba(60, 64, 67, 0.15);\n",
       "      fill: #174EA6;\n",
       "    }\n",
       "\n",
       "    [theme=dark] .colab-df-convert {\n",
       "      background-color: #3B4455;\n",
       "      fill: #D2E3FC;\n",
       "    }\n",
       "\n",
       "    [theme=dark] .colab-df-convert:hover {\n",
       "      background-color: #434B5C;\n",
       "      box-shadow: 0px 1px 3px 1px rgba(0, 0, 0, 0.15);\n",
       "      filter: drop-shadow(0px 1px 2px rgba(0, 0, 0, 0.3));\n",
       "      fill: #FFFFFF;\n",
       "    }\n",
       "  </style>\n",
       "\n",
       "      <script>\n",
       "        const buttonEl =\n",
       "          document.querySelector('#df-10eea7dd-ea07-4b32-9d94-7103d60bcdc6 button.colab-df-convert');\n",
       "        buttonEl.style.display =\n",
       "          google.colab.kernel.accessAllowed ? 'block' : 'none';\n",
       "\n",
       "        async function convertToInteractive(key) {\n",
       "          const element = document.querySelector('#df-10eea7dd-ea07-4b32-9d94-7103d60bcdc6');\n",
       "          const dataTable =\n",
       "            await google.colab.kernel.invokeFunction('convertToInteractive',\n",
       "                                                     [key], {});\n",
       "          if (!dataTable) return;\n",
       "\n",
       "          const docLinkHtml = 'Like what you see? Visit the ' +\n",
       "            '<a target=\"_blank\" href=https://colab.research.google.com/notebooks/data_table.ipynb>data table notebook</a>'\n",
       "            + ' to learn more about interactive tables.';\n",
       "          element.innerHTML = '';\n",
       "          dataTable['output_type'] = 'display_data';\n",
       "          await google.colab.output.renderOutput(dataTable, element);\n",
       "          const docLink = document.createElement('div');\n",
       "          docLink.innerHTML = docLinkHtml;\n",
       "          element.appendChild(docLink);\n",
       "        }\n",
       "      </script>\n",
       "    </div>\n",
       "  </div>\n",
       "  "
      ],
      "text/plain": [
       "              0\n",
       "636  110.400000\n",
       "637  110.630000\n",
       "638  113.550000\n",
       "639  113.760000\n",
       "640  118.210000\n",
       "641  122.770000\n",
       "642  124.630000\n",
       "643  122.420000\n",
       "644  121.140000\n",
       "645  114.810000\n",
       "646  120.970000\n",
       "647  122.280000\n",
       "648  134.950000\n",
       "649  135.390000\n",
       "650  134.160000\n",
       "651  116.660549\n",
       "652  117.105666\n",
       "653  117.814579\n",
       "654  118.629247\n",
       "655  119.436597\n",
       "656  120.323308\n",
       "657  121.193002\n",
       "658  122.042747\n",
       "659  122.893677\n",
       "660  123.705243\n",
       "661  124.474650\n",
       "662  125.283727\n",
       "663  126.148675\n",
       "664  126.976953\n",
       "665  127.821024"
      ]
     },
     "execution_count": 69,
     "metadata": {},
     "output_type": "execute_result"
    }
   ],
   "source": [
    "full_data.tail(30)"
   ]
  },
  {
   "cell_type": "code",
   "execution_count": null,
   "metadata": {
    "id": "8JM-GgY4okBW"
   },
   "outputs": [],
   "source": [
    "#FB prophet model"
   ]
  },
  {
   "cell_type": "code",
   "execution_count": null,
   "metadata": {
    "id": "eeIrbyT-ooqd"
   },
   "outputs": [],
   "source": [
    "df.reset_index(inplace=True)"
   ]
  },
  {
   "cell_type": "code",
   "execution_count": null,
   "metadata": {
    "id": "5zIDXk9Aov9e"
   },
   "outputs": [],
   "source": [
    "data = df[[\"Date\", \"Close\"]]"
   ]
  },
  {
   "cell_type": "code",
   "execution_count": null,
   "metadata": {
    "colab": {
     "base_uri": "https://localhost:8080/",
     "height": 206
    },
    "id": "sObHJS4xo1J-",
    "outputId": "c1b7f025-3576-4f14-96ea-ddaa530423cb"
   },
   "outputs": [
    {
     "data": {
      "text/html": [
       "\n",
       "  <div id=\"df-613e3955-d4a7-4238-b7ac-db2bdc374f9e\">\n",
       "    <div class=\"colab-df-container\">\n",
       "      <div>\n",
       "<style scoped>\n",
       "    .dataframe tbody tr th:only-of-type {\n",
       "        vertical-align: middle;\n",
       "    }\n",
       "\n",
       "    .dataframe tbody tr th {\n",
       "        vertical-align: top;\n",
       "    }\n",
       "\n",
       "    .dataframe thead th {\n",
       "        text-align: right;\n",
       "    }\n",
       "</style>\n",
       "<table border=\"1\" class=\"dataframe\">\n",
       "  <thead>\n",
       "    <tr style=\"text-align: right;\">\n",
       "      <th></th>\n",
       "      <th>Date</th>\n",
       "      <th>Close</th>\n",
       "    </tr>\n",
       "  </thead>\n",
       "  <tbody>\n",
       "    <tr>\n",
       "      <th>0</th>\n",
       "      <td>2020-01-02</td>\n",
       "      <td>94.90</td>\n",
       "    </tr>\n",
       "    <tr>\n",
       "      <th>1</th>\n",
       "      <td>2020-01-03</td>\n",
       "      <td>93.75</td>\n",
       "    </tr>\n",
       "    <tr>\n",
       "      <th>2</th>\n",
       "      <td>2020-01-06</td>\n",
       "      <td>95.14</td>\n",
       "    </tr>\n",
       "    <tr>\n",
       "      <th>3</th>\n",
       "      <td>2020-01-07</td>\n",
       "      <td>95.34</td>\n",
       "    </tr>\n",
       "    <tr>\n",
       "      <th>4</th>\n",
       "      <td>2020-01-08</td>\n",
       "      <td>94.60</td>\n",
       "    </tr>\n",
       "  </tbody>\n",
       "</table>\n",
       "</div>\n",
       "      <button class=\"colab-df-convert\" onclick=\"convertToInteractive('df-613e3955-d4a7-4238-b7ac-db2bdc374f9e')\"\n",
       "              title=\"Convert this dataframe to an interactive table.\"\n",
       "              style=\"display:none;\">\n",
       "        \n",
       "  <svg xmlns=\"http://www.w3.org/2000/svg\" height=\"24px\"viewBox=\"0 0 24 24\"\n",
       "       width=\"24px\">\n",
       "    <path d=\"M0 0h24v24H0V0z\" fill=\"none\"/>\n",
       "    <path d=\"M18.56 5.44l.94 2.06.94-2.06 2.06-.94-2.06-.94-.94-2.06-.94 2.06-2.06.94zm-11 1L8.5 8.5l.94-2.06 2.06-.94-2.06-.94L8.5 2.5l-.94 2.06-2.06.94zm10 10l.94 2.06.94-2.06 2.06-.94-2.06-.94-.94-2.06-.94 2.06-2.06.94z\"/><path d=\"M17.41 7.96l-1.37-1.37c-.4-.4-.92-.59-1.43-.59-.52 0-1.04.2-1.43.59L10.3 9.45l-7.72 7.72c-.78.78-.78 2.05 0 2.83L4 21.41c.39.39.9.59 1.41.59.51 0 1.02-.2 1.41-.59l7.78-7.78 2.81-2.81c.8-.78.8-2.07 0-2.86zM5.41 20L4 18.59l7.72-7.72 1.47 1.35L5.41 20z\"/>\n",
       "  </svg>\n",
       "      </button>\n",
       "      \n",
       "  <style>\n",
       "    .colab-df-container {\n",
       "      display:flex;\n",
       "      flex-wrap:wrap;\n",
       "      gap: 12px;\n",
       "    }\n",
       "\n",
       "    .colab-df-convert {\n",
       "      background-color: #E8F0FE;\n",
       "      border: none;\n",
       "      border-radius: 50%;\n",
       "      cursor: pointer;\n",
       "      display: none;\n",
       "      fill: #1967D2;\n",
       "      height: 32px;\n",
       "      padding: 0 0 0 0;\n",
       "      width: 32px;\n",
       "    }\n",
       "\n",
       "    .colab-df-convert:hover {\n",
       "      background-color: #E2EBFA;\n",
       "      box-shadow: 0px 1px 2px rgba(60, 64, 67, 0.3), 0px 1px 3px 1px rgba(60, 64, 67, 0.15);\n",
       "      fill: #174EA6;\n",
       "    }\n",
       "\n",
       "    [theme=dark] .colab-df-convert {\n",
       "      background-color: #3B4455;\n",
       "      fill: #D2E3FC;\n",
       "    }\n",
       "\n",
       "    [theme=dark] .colab-df-convert:hover {\n",
       "      background-color: #434B5C;\n",
       "      box-shadow: 0px 1px 3px 1px rgba(0, 0, 0, 0.15);\n",
       "      filter: drop-shadow(0px 1px 2px rgba(0, 0, 0, 0.3));\n",
       "      fill: #FFFFFF;\n",
       "    }\n",
       "  </style>\n",
       "\n",
       "      <script>\n",
       "        const buttonEl =\n",
       "          document.querySelector('#df-613e3955-d4a7-4238-b7ac-db2bdc374f9e button.colab-df-convert');\n",
       "        buttonEl.style.display =\n",
       "          google.colab.kernel.accessAllowed ? 'block' : 'none';\n",
       "\n",
       "        async function convertToInteractive(key) {\n",
       "          const element = document.querySelector('#df-613e3955-d4a7-4238-b7ac-db2bdc374f9e');\n",
       "          const dataTable =\n",
       "            await google.colab.kernel.invokeFunction('convertToInteractive',\n",
       "                                                     [key], {});\n",
       "          if (!dataTable) return;\n",
       "\n",
       "          const docLinkHtml = 'Like what you see? Visit the ' +\n",
       "            '<a target=\"_blank\" href=https://colab.research.google.com/notebooks/data_table.ipynb>data table notebook</a>'\n",
       "            + ' to learn more about interactive tables.';\n",
       "          element.innerHTML = '';\n",
       "          dataTable['output_type'] = 'display_data';\n",
       "          await google.colab.output.renderOutput(dataTable, element);\n",
       "          const docLink = document.createElement('div');\n",
       "          docLink.innerHTML = docLinkHtml;\n",
       "          element.appendChild(docLink);\n",
       "        }\n",
       "      </script>\n",
       "    </div>\n",
       "  </div>\n",
       "  "
      ],
      "text/plain": [
       "        Date  Close\n",
       "0 2020-01-02  94.90\n",
       "1 2020-01-03  93.75\n",
       "2 2020-01-06  95.14\n",
       "3 2020-01-07  95.34\n",
       "4 2020-01-08  94.60"
      ]
     },
     "execution_count": 73,
     "metadata": {},
     "output_type": "execute_result"
    }
   ],
   "source": [
    "data.head()"
   ]
  },
  {
   "cell_type": "code",
   "execution_count": null,
   "metadata": {
    "id": "c_QUFxT8o6Ji"
   },
   "outputs": [],
   "source": [
    "data = data.rename(columns = {'Date':'ds','Close' :'y'})\n",
    "#FB prophet model 사용을 위한 칼럼명 변경"
   ]
  },
  {
   "cell_type": "code",
   "execution_count": null,
   "metadata": {
    "colab": {
     "base_uri": "https://localhost:8080/",
     "height": 206
    },
    "id": "u98wpJhRpIEb",
    "outputId": "39775be6-37a5-421d-cd4c-159d44fc1f28"
   },
   "outputs": [
    {
     "data": {
      "text/html": [
       "\n",
       "  <div id=\"df-9f75ddb7-2e73-4b9e-9f37-70b488a4b6be\">\n",
       "    <div class=\"colab-df-container\">\n",
       "      <div>\n",
       "<style scoped>\n",
       "    .dataframe tbody tr th:only-of-type {\n",
       "        vertical-align: middle;\n",
       "    }\n",
       "\n",
       "    .dataframe tbody tr th {\n",
       "        vertical-align: top;\n",
       "    }\n",
       "\n",
       "    .dataframe thead th {\n",
       "        text-align: right;\n",
       "    }\n",
       "</style>\n",
       "<table border=\"1\" class=\"dataframe\">\n",
       "  <thead>\n",
       "    <tr style=\"text-align: right;\">\n",
       "      <th></th>\n",
       "      <th>ds</th>\n",
       "      <th>y</th>\n",
       "    </tr>\n",
       "  </thead>\n",
       "  <tbody>\n",
       "    <tr>\n",
       "      <th>0</th>\n",
       "      <td>2020-01-02</td>\n",
       "      <td>94.90</td>\n",
       "    </tr>\n",
       "    <tr>\n",
       "      <th>1</th>\n",
       "      <td>2020-01-03</td>\n",
       "      <td>93.75</td>\n",
       "    </tr>\n",
       "    <tr>\n",
       "      <th>2</th>\n",
       "      <td>2020-01-06</td>\n",
       "      <td>95.14</td>\n",
       "    </tr>\n",
       "    <tr>\n",
       "      <th>3</th>\n",
       "      <td>2020-01-07</td>\n",
       "      <td>95.34</td>\n",
       "    </tr>\n",
       "    <tr>\n",
       "      <th>4</th>\n",
       "      <td>2020-01-08</td>\n",
       "      <td>94.60</td>\n",
       "    </tr>\n",
       "  </tbody>\n",
       "</table>\n",
       "</div>\n",
       "      <button class=\"colab-df-convert\" onclick=\"convertToInteractive('df-9f75ddb7-2e73-4b9e-9f37-70b488a4b6be')\"\n",
       "              title=\"Convert this dataframe to an interactive table.\"\n",
       "              style=\"display:none;\">\n",
       "        \n",
       "  <svg xmlns=\"http://www.w3.org/2000/svg\" height=\"24px\"viewBox=\"0 0 24 24\"\n",
       "       width=\"24px\">\n",
       "    <path d=\"M0 0h24v24H0V0z\" fill=\"none\"/>\n",
       "    <path d=\"M18.56 5.44l.94 2.06.94-2.06 2.06-.94-2.06-.94-.94-2.06-.94 2.06-2.06.94zm-11 1L8.5 8.5l.94-2.06 2.06-.94-2.06-.94L8.5 2.5l-.94 2.06-2.06.94zm10 10l.94 2.06.94-2.06 2.06-.94-2.06-.94-.94-2.06-.94 2.06-2.06.94z\"/><path d=\"M17.41 7.96l-1.37-1.37c-.4-.4-.92-.59-1.43-.59-.52 0-1.04.2-1.43.59L10.3 9.45l-7.72 7.72c-.78.78-.78 2.05 0 2.83L4 21.41c.39.39.9.59 1.41.59.51 0 1.02-.2 1.41-.59l7.78-7.78 2.81-2.81c.8-.78.8-2.07 0-2.86zM5.41 20L4 18.59l7.72-7.72 1.47 1.35L5.41 20z\"/>\n",
       "  </svg>\n",
       "      </button>\n",
       "      \n",
       "  <style>\n",
       "    .colab-df-container {\n",
       "      display:flex;\n",
       "      flex-wrap:wrap;\n",
       "      gap: 12px;\n",
       "    }\n",
       "\n",
       "    .colab-df-convert {\n",
       "      background-color: #E8F0FE;\n",
       "      border: none;\n",
       "      border-radius: 50%;\n",
       "      cursor: pointer;\n",
       "      display: none;\n",
       "      fill: #1967D2;\n",
       "      height: 32px;\n",
       "      padding: 0 0 0 0;\n",
       "      width: 32px;\n",
       "    }\n",
       "\n",
       "    .colab-df-convert:hover {\n",
       "      background-color: #E2EBFA;\n",
       "      box-shadow: 0px 1px 2px rgba(60, 64, 67, 0.3), 0px 1px 3px 1px rgba(60, 64, 67, 0.15);\n",
       "      fill: #174EA6;\n",
       "    }\n",
       "\n",
       "    [theme=dark] .colab-df-convert {\n",
       "      background-color: #3B4455;\n",
       "      fill: #D2E3FC;\n",
       "    }\n",
       "\n",
       "    [theme=dark] .colab-df-convert:hover {\n",
       "      background-color: #434B5C;\n",
       "      box-shadow: 0px 1px 3px 1px rgba(0, 0, 0, 0.15);\n",
       "      filter: drop-shadow(0px 1px 2px rgba(0, 0, 0, 0.3));\n",
       "      fill: #FFFFFF;\n",
       "    }\n",
       "  </style>\n",
       "\n",
       "      <script>\n",
       "        const buttonEl =\n",
       "          document.querySelector('#df-9f75ddb7-2e73-4b9e-9f37-70b488a4b6be button.colab-df-convert');\n",
       "        buttonEl.style.display =\n",
       "          google.colab.kernel.accessAllowed ? 'block' : 'none';\n",
       "\n",
       "        async function convertToInteractive(key) {\n",
       "          const element = document.querySelector('#df-9f75ddb7-2e73-4b9e-9f37-70b488a4b6be');\n",
       "          const dataTable =\n",
       "            await google.colab.kernel.invokeFunction('convertToInteractive',\n",
       "                                                     [key], {});\n",
       "          if (!dataTable) return;\n",
       "\n",
       "          const docLinkHtml = 'Like what you see? Visit the ' +\n",
       "            '<a target=\"_blank\" href=https://colab.research.google.com/notebooks/data_table.ipynb>data table notebook</a>'\n",
       "            + ' to learn more about interactive tables.';\n",
       "          element.innerHTML = '';\n",
       "          dataTable['output_type'] = 'display_data';\n",
       "          await google.colab.output.renderOutput(dataTable, element);\n",
       "          const docLink = document.createElement('div');\n",
       "          docLink.innerHTML = docLinkHtml;\n",
       "          element.appendChild(docLink);\n",
       "        }\n",
       "      </script>\n",
       "    </div>\n",
       "  </div>\n",
       "  "
      ],
      "text/plain": [
       "          ds      y\n",
       "0 2020-01-02  94.90\n",
       "1 2020-01-03  93.75\n",
       "2 2020-01-06  95.14\n",
       "3 2020-01-07  95.34\n",
       "4 2020-01-08  94.60"
      ]
     },
     "execution_count": 75,
     "metadata": {},
     "output_type": "execute_result"
    }
   ],
   "source": [
    "data.head()"
   ]
  },
  {
   "cell_type": "markdown",
   "metadata": {
    "id": "zAgdyj-pEK3o"
   },
   "source": [
    "\n",
    "페이스북 라이브러리를 사용한 주식 분석\n",
    "\n",
    "```\n",
    "# 코드로 형식 지정됨\n",
    "```\n",
    "\n"
   ]
  },
  {
   "cell_type": "code",
   "execution_count": null,
   "metadata": {
    "id": "szxRsMP8qD42"
   },
   "outputs": [],
   "source": [
    "#페이스북 라이브러리를 사용한 주식 분석"
   ]
  },
  {
   "cell_type": "code",
   "execution_count": null,
   "metadata": {
    "colab": {
     "base_uri": "https://localhost:8080/"
    },
    "id": "rIv2K90zpNtq",
    "outputId": "b82920cf-5e1a-4544-9d9e-67f6218f49e5"
   },
   "outputs": [
    {
     "name": "stderr",
     "output_type": "stream",
     "text": [
      "01:14:13 - cmdstanpy - INFO - Chain [1] start processing\n",
      "01:14:13 - cmdstanpy - INFO - Chain [1] done processing\n"
     ]
    },
    {
     "data": {
      "text/plain": [
       "<prophet.forecaster.Prophet at 0x7f0bdc4d8bd0>"
      ]
     },
     "execution_count": 77,
     "metadata": {},
     "output_type": "execute_result"
    }
   ],
   "source": [
    "from prophet import Prophet\n",
    "m = Prophet(changepoint_prior_scale = 0.15, daily_seasonality = True)\n",
    "m.fit(data)"
   ]
  },
  {
   "cell_type": "code",
   "execution_count": null,
   "metadata": {
    "colab": {
     "base_uri": "https://localhost:8080/",
     "height": 526
    },
    "id": "ts4m7I_op1VU",
    "outputId": "d9fc91c7-4058-473d-e9f5-f31669202c75"
   },
   "outputs": [
    {
     "name": "stderr",
     "output_type": "stream",
     "text": [
      "/usr/local/lib/python3.7/dist-packages/matplotlib/backends/backend_agg.py:214: RuntimeWarning: Glyph 8 missing from current font.\n",
      "  font.set_text(s, 0.0, flags=flags)\n",
      "/usr/local/lib/python3.7/dist-packages/matplotlib/backends/backend_agg.py:183: RuntimeWarning: Glyph 8 missing from current font.\n",
      "  font.set_text(s, 0, flags=flags)\n"
     ]
    },
    {
     "data": {
      "image/png": "[encoded data removed]",
      "text/plain": [
       "<Figure size 720x432 with 1 Axes>"
      ]
     },
     "metadata": {},
     "output_type": "display_data"
    }
   ],
   "source": [
    "future = m.make_future_dataframe(periods=21)\n",
    "prediction = m.predict(future)\n",
    "m.plot(prediction)\n",
    "plt.title(\"Prediction of the Amazon Stock Price Using the Prophet\")\n",
    "plt.xlabel(\"Date\")\n",
    "plt.ylabel(\"Close Stock Price\")\n",
    "plt.show()"
   ]
  },
  {
   "cell_type": "code",
   "execution_count": null,
   "metadata": {
    "colab": {
     "base_uri": "https://localhost:8080/",
     "height": 873
    },
    "id": "MADE_dQ-rRhT",
    "outputId": "4d0da92b-184e-44fb-d9ec-c0dec34686cd"
   },
   "outputs": [
    {
     "data": {
      "image/png": "[encoded data removed]",
      "text/plain": [
       "<Figure size 648x864 with 4 Axes>"
      ]
     },
     "metadata": {},
     "output_type": "display_data"
    }
   ],
   "source": [
    "m.plot_components(prediction)\n",
    "plt.show()\n",
    "#전반적인 트렌트와\n",
    "#주간 트렌드\n",
    "#연간 트렌드\n",
    "#일간 트렌드\n"
   ]
  },
  {
   "cell_type": "code",
   "execution_count": null,
   "metadata": {
    "id": "oCb56_K_rmmO"
   },
   "outputs": [],
   "source": [
    "#전반적으로 트렌드는 잘 표시하나 코로나와 전쟁 이후로 정확한 예측이 많이 어려워짐"
   ]
  }
 ],
 "metadata": {
  "accelerator": "GPU",
  "colab": {
   "provenance": [],
   "toc_visible": true
  },
  "gpuClass": "standard",
  "kernelspec": {
   "display_name": "Python 3 (ipykernel)",
   "language": "python",
   "name": "python3"
  },
  "language_info": {
   "codemirror_mode": {
    "name": "ipython",
    "version": 3
   },
   "file_extension": ".py",
   "mimetype": "text/x-python",
   "name": "python",
   "nbconvert_exporter": "python",
   "pygments_lexer": "ipython3",
   "version": "3.9.12"
  }
 },
 "nbformat": 4,
 "nbformat_minor": 1
}
