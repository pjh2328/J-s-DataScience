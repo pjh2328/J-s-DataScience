{
 "cells": [
  {
   "cell_type": "markdown",
   "id": "94f3eaac",
   "metadata": {},
   "source": [
    " # 가장 휼륭한 예측선\n",
    "일차 함수를 통하여 가장 휼룽한 예측선을 그릴수 있다.\n",
    "\n",
    "y = ax + b\n",
    "x는 독립변수\n",
    "y는 종속 변수\n",
    "\n",
    "x값에 따라 y값은 반드시 달라짐\n",
    "이를 더욱 정확하기 계산하기 위해서는\n",
    "a의 기울기와 b의 절편값을 정확히 예측해야 된다.\n",
    "\n",
    "이는 곧 선형회기는 정확한 선을 그리는 작업이라고 볼수있다. \n",
    "\n",
    "우리가 a와 b를 알기 위해서는 최소 제곱법이라는 공식을 알고 적용하면\n",
    "이를 통해서 일차 함수의 기울기 a와 y절편 b를 구할수 있다."
   ]
  },
  {
   "cell_type": "code",
   "execution_count": null,
   "id": "473031e9",
   "metadata": {},
   "outputs": [],
   "source": []
  },
  {
   "cell_type": "code",
   "execution_count": 2,
   "id": "0de07152",
   "metadata": {},
   "outputs": [],
   "source": [
    "import numpy as np"
   ]
  },
  {
   "cell_type": "code",
   "execution_count": 3,
   "id": "aed335bb",
   "metadata": {},
   "outputs": [],
   "source": [
    "x = np.array([2,4,6,8])\n",
    "y = np.array([81,93,91,97])"
   ]
  },
  {
   "cell_type": "code",
   "execution_count": 4,
   "id": "2f46cb8f",
   "metadata": {},
   "outputs": [],
   "source": [
    "mx = np.mean(x)\n",
    "my = np.mean(y)"
   ]
  },
  {
   "cell_type": "code",
   "execution_count": null,
   "id": "99be4635",
   "metadata": {},
   "outputs": [],
   "source": []
  }
 ],
 "metadata": {
  "kernelspec": {
   "display_name": "Python 3 (ipykernel)",
   "language": "python",
   "name": "python3"
  },
  "language_info": {
   "codemirror_mode": {
    "name": "ipython",
    "version": 3
   },
   "file_extension": ".py",
   "mimetype": "text/x-python",
   "name": "python",
   "nbconvert_exporter": "python",
   "pygments_lexer": "ipython3",
   "version": "3.9.12"
  }
 },
 "nbformat": 4,
 "nbformat_minor": 5
}
