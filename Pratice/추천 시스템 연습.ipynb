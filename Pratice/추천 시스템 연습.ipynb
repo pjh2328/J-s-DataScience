{
 "cells": [
  {
   "cell_type": "code",
   "execution_count": null,
   "id": "b4542b34",
   "metadata": {},
   "outputs": [],
   "source": [
    "#추천 시스템\n",
    "# 추천 시스"
   ]
  }
 ],
 "metadata": {
  "kernelspec": {
   "display_name": "Python 3 (ipykernel)",
   "language": "python",
   "name": "python3"
  },
  "language_info": {
   "codemirror_mode": {
    "name": "ipython",
    "version": 3
   },
   "file_extension": ".py",
   "mimetype": "text/x-python",
   "name": "python",
   "nbconvert_exporter": "python",
   "pygments_lexer": "ipython3",
   "version": "3.9.12"
  }
 },
 "nbformat": 4,
 "nbformat_minor": 5
}
