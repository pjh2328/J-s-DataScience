{
 "cells": [
  {
   "cell_type": "markdown",
   "id": "275ff53d",
   "metadata": {},
   "source": [
    "# 커피 퀄리티 점수 예측 모델"
   ]
  },
  {
   "cell_type": "markdown",
   "id": "215f30d2",
   "metadata": {},
   "source": [
    "# 사용 모듈"
   ]
  },
  {
   "cell_type": "code",
   "execution_count": 1,
   "id": "fecdff51",
   "metadata": {},
   "outputs": [
    {
     "name": "stdout",
     "output_type": "stream",
     "text": [
      "WARNING:tensorflow:From C:\\Users\\pjh23\\anaconda3\\lib\\site-packages\\tensorflow\\python\\compat\\v2_compat.py:107: disable_resource_variables (from tensorflow.python.ops.variable_scope) is deprecated and will be removed in a future version.\n",
      "Instructions for updating:\n",
      "non-resource variables are not supported in the long term\n"
     ]
    }
   ],
   "source": [
    "import tensorflow.compat.v1 as tf\n",
    "tf.disable_v2_behavior()\n",
    "import numpy as np"
   ]
  },
  {
   "cell_type": "markdown",
   "id": "747e5f41",
   "metadata": {},
   "source": [
    "# 기본 다항회기를 사용하여 점수 예측 모델시도"
   ]
  },
  {
   "cell_type": "code",
   "execution_count": 2,
   "id": "db71b46a",
   "metadata": {},
   "outputs": [],
   "source": [
    "tf.compat.v1.disable_eager_execution()\n",
    "X = tf.compat.v1.placeholder(shape=[None, 4], dtype=tf.float32)\n",
    "Y = tf.compat.v1.placeholder(shape=[None, 1], dtype=tf.float32)\n",
    "W = tf.Variable(tf.random.normal([4,1]), name='weight')\n",
    "b = tf.Variable(tf.random.normal([1]), name='bias')"
   ]
  },
  {
   "cell_type": "code",
   "execution_count": 3,
   "id": "321539dd",
   "metadata": {},
   "outputs": [],
   "source": [
    "hypothesis = tf.matmul(X, W ) + b"
   ]
  },
  {
   "cell_type": "code",
   "execution_count": 4,
   "id": "ea720b2f",
   "metadata": {},
   "outputs": [],
   "source": [
    "saver = tf.train.Saver()\n",
    "model = tf.global_variables_initializer()"
   ]
  },
  {
   "cell_type": "markdown",
   "id": "4b228383",
   "metadata": {},
   "source": [
    "# 임의의 점수 입력 및 점수 예측"
   ]
  },
  {
   "cell_type": "code",
   "execution_count": 5,
   "id": "e4dbd4ef",
   "metadata": {},
   "outputs": [
    {
     "name": "stdout",
     "output_type": "stream",
     "text": [
      "향미 점수 8\n",
      "맛 점수 9\n",
      "산도 점수 8\n",
      "발란스 점수 9\n"
     ]
    }
   ],
   "source": [
    "Aroma = float(input(\"향미 점수 \"))\n",
    "Flavor = float(input(\"맛 점수 \"))\n",
    "Acidity = float(input(\"산도 점수 \"))\n",
    "balance = float(input(\"발란스 점수 \"))\n",
    "# 커피에서 중요한 4가지 요소를 가지고 점수 예측을 시도!"
   ]
  },
  {
   "cell_type": "code",
   "execution_count": 7,
   "id": "f9c81568",
   "metadata": {},
   "outputs": [
    {
     "name": "stdout",
     "output_type": "stream",
     "text": [
      "INFO:tensorflow:Restoring parameters from ../data/savefile/saved.cpkt\n",
      "커피 예측 점수는 [91.88152]\n"
     ]
    }
   ],
   "source": [
    "with tf.Session() as sess:\n",
    "  sess.run(model)\n",
    "\n",
    "  save_path = \"../data/savefile/saved.cpkt\"\n",
    "  saver.restore(sess, save_path)\n",
    "\n",
    "  data=((Aroma, Flavor, Acidity, balance), )\n",
    "  arr = np.array(data, dtype=np.float32)\n",
    "\n",
    "  x_data =arr[0:4]\n",
    "  dict = sess.run(hypothesis, feed_dict = {X: x_data})\n",
    "  print(\"커피 예측 점수는\",dict[0])\n"
   ]
  },
  {
   "cell_type": "code",
   "execution_count": 8,
   "id": "7d16cbe7",
   "metadata": {},
   "outputs": [
    {
     "name": "stdout",
     "output_type": "stream",
     "text": [
      "향미 점수 8\n",
      "맛 점수 7\n",
      "산도 점수 6\n",
      "발란스 점수 6\n"
     ]
    }
   ],
   "source": [
    "Aroma = float(input(\"향미 점수 \"))\n",
    "Flavor = float(input(\"맛 점수 \"))\n",
    "Acidity = float(input(\"산도 점수 \"))\n",
    "balance = float(input(\"발란스 점수 \"))\n",
    "# 커피에서 중요한 4가지 요소를 가지고 점수 예측을 시도!"
   ]
  },
  {
   "cell_type": "code",
   "execution_count": 9,
   "id": "6ff6a223",
   "metadata": {},
   "outputs": [
    {
     "name": "stdout",
     "output_type": "stream",
     "text": [
      "INFO:tensorflow:Restoring parameters from ../data/savefile/saved.cpkt\n",
      "커피 예측 점수는 [73.1014]\n"
     ]
    }
   ],
   "source": [
    "with tf.Session() as sess:\n",
    "  sess.run(model)\n",
    "\n",
    "  save_path = \"../data/savefile/saved.cpkt\"\n",
    "  saver.restore(sess, save_path)\n",
    "\n",
    "  data=((Aroma, Flavor, Acidity, balance), )\n",
    "  arr = np.array(data, dtype=np.float32)\n",
    "\n",
    "  x_data =arr[0:4]\n",
    "  dict = sess.run(hypothesis, feed_dict = {X: x_data})\n",
    "  print(\"커피 예측 점수는\",dict[0])\n"
   ]
  },
  {
   "cell_type": "markdown",
   "id": "701f7630",
   "metadata": {},
   "source": [
    "# 이전에 퀄리티 분석에서 보여주었던 4가지 중요 요소를 가지고 커피의 점수를 예측을 시도, 4가지 요소에 높은 점수를 주면 좋은 점수가 나오고 요소에 낮은 점수를 입력하면 낮은 점수가 나옴. 심지어 중요도 순서로 발란스 점수와 산도 점수가 조금이라도 낮아지면 바로 점수가 낮아지는 것을 볼수있습니다."
   ]
  },
  {
   "cell_type": "code",
   "execution_count": null,
   "id": "56968923",
   "metadata": {},
   "outputs": [],
   "source": []
  },
  {
   "cell_type": "code",
   "execution_count": null,
   "id": "1f3e16db",
   "metadata": {},
   "outputs": [],
   "source": []
  }
 ],
 "metadata": {
  "kernelspec": {
   "display_name": "Python 3 (ipykernel)",
   "language": "python",
   "name": "python3"
  },
  "language_info": {
   "codemirror_mode": {
    "name": "ipython",
    "version": 3
   },
   "file_extension": ".py",
   "mimetype": "text/x-python",
   "name": "python",
   "nbconvert_exporter": "python",
   "pygments_lexer": "ipython3",
   "version": "3.9.12"
  }
 },
 "nbformat": 4,
 "nbformat_minor": 5
}
