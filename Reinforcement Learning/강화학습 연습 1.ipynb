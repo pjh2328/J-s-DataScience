{
 "cells": [
  {
   "cell_type": "code",
   "execution_count": 4,
   "id": "c688e626",
   "metadata": {},
   "outputs": [
    {
     "ename": "ModuleNotFoundError",
     "evalue": "No module named 'imageio.v2'",
     "output_type": "error",
     "traceback": [
      "\u001b[1;31m---------------------------------------------------------------------------\u001b[0m",
      "\u001b[1;31mModuleNotFoundError\u001b[0m                       Traceback (most recent call last)",
      "Input \u001b[1;32mIn [4]\u001b[0m, in \u001b[0;36m<cell line: 8>\u001b[1;34m()\u001b[0m\n\u001b[0;32m      6\u001b[0m \u001b[38;5;28;01mimport\u001b[39;00m \u001b[38;5;21;01mgym\u001b[39;00m\n\u001b[0;32m      7\u001b[0m \u001b[38;5;28;01mimport\u001b[39;00m \u001b[38;5;21;01mmath\u001b[39;00m\n\u001b[1;32m----> 8\u001b[0m \u001b[38;5;28;01mimport\u001b[39;00m \u001b[38;5;21;01mimageio\u001b[39;00m\u001b[38;5;21;01m.\u001b[39;00m\u001b[38;5;21;01mv2\u001b[39;00m \u001b[38;5;28;01mas\u001b[39;00m \u001b[38;5;21;01mimageio\u001b[39;00m\n\u001b[0;32m      9\u001b[0m \u001b[38;5;28;01mimport\u001b[39;00m \u001b[38;5;21;01mos\u001b[39;00m\n\u001b[0;32m     10\u001b[0m \u001b[38;5;28;01mimport\u001b[39;00m \u001b[38;5;21;01mnumpy\u001b[39;00m \u001b[38;5;28;01mas\u001b[39;00m \u001b[38;5;21;01mnp\u001b[39;00m\n",
      "\u001b[1;31mModuleNotFoundError\u001b[0m: No module named 'imageio.v2'"
     ]
    }
   ],
   "source": [
    "#!/Users/ashis/venv-directory/venv-ml-p3.10/bin/python3.10\n",
    "#Please make this python file executable and then run it without passing it to python interpreter\n",
    "#as the the interpreter listed on the first line will be invoked. Good luck!\n",
    "#$ chmod +x Blackjack-v1-code1.py\n",
    "#$ ./Blackjack-v1-code1.py\n",
    "import gym\n",
    "import math\n",
    "import imageio.v2 as imageio\n",
    "import os\n",
    "import numpy as np\n",
    "from tqdm import tqdm\n",
    "import matplotlib.pyplot as plt\n",
    "from joblib import load, dump"
   ]
  },
  {
   "cell_type": "code",
   "execution_count": 9,
   "id": "0ad734c7",
   "metadata": {},
   "outputs": [],
   "source": [
    "# class _Getch:\n",
    "#     def __call__(self):\n",
    "#         fd = sys.stdin.fileno()\n",
    "#         old_settingfs = termios.tcgetattr(fd)\n",
    "#         try:\n",
    "#             tty.setraw(sys.stdin.fileno())\n",
    "#         finally:\n",
    "#             termios.tcsetattr(fd, termios.TCSADRAIN, old_settings)\n",
    "#         return ch\n",
    "# inkey = Getch()\n",
    "\n",
    "# # MARCOS\n",
    "# LEFT = 0\n",
    "# DOWN = 1\n",
    "# RIGHT = 2\n",
    "# UP = 3\n",
    "\n",
    "# #key Mapping\n",
    "# arrow_key = {\n",
    "#     '\\xlb[A': UP,\n",
    "#     '\\xlb[B': DOWN,\n",
    "#     '\\xlb[C': RIGHT,\n",
    "#     '\\xlb[D': LEFT}"
   ]
  },
  {
   "cell_type": "code",
   "execution_count": 10,
   "id": "9c7f0420",
   "metadata": {},
   "outputs": [],
   "source": [
    "# import gym\n",
    "# from gym.envs.registration imnport register\n",
    "# import sys,tty,termios\n",
    "\n",
    "# register(\n",
    "# id=\"FrozenLake-3\",\n",
    "# entry_point = 'gym.envs.toy_text:FrozenLageEnv',\n",
    "# kwargs={'map_name' : '4x4', 'is_slippery':False})\n",
    "\n",
    "# env = gym.make('FrozenLake-v3')\n",
    "# env.rander()\n",
    "\n",
    "# while True:\n",
    "#     key = inkey()\n",
    "#     if key not in arrow_keys.keys():\n",
    "#         print(\"Game aborted!\")\n",
    "#         break\n",
    "#     action = arrow_keys[key]\n",
    "#     state,reward,done,info = enc.step(action)\n",
    "#     env.render()\n",
    "#     print(\"State: \",state, \"Action: \", action, \"Reward: \", reward, \"Info: \", info)\n",
    "    \n",
    "#     if done:\n",
    "#         print(\"Finished with reward\", reward)\n",
    "#         break"
   ]
  },
  {
   "cell_type": "code",
   "execution_count": 13,
   "id": "78133c24",
   "metadata": {},
   "outputs": [
    {
     "ename": "SyntaxError",
     "evalue": "(unicode error) 'unicodeescape' codec can't decode bytes in position 0-1: truncated \\xXX escape (1362962630.py, line 25)",
     "output_type": "error",
     "traceback": [
      "\u001b[1;36m  Input \u001b[1;32mIn [13]\u001b[1;36m\u001b[0m\n\u001b[1;33m    '\\xlb[A': UP,\u001b[0m\n\u001b[1;37m            ^\u001b[0m\n\u001b[1;31mSyntaxError\u001b[0m\u001b[1;31m:\u001b[0m (unicode error) 'unicodeescape' codec can't decode bytes in position 0-1: truncated \\xXX escape\n"
     ]
    }
   ],
   "source": [
    "import gym\n",
    "from gym.envs.registration import register\n",
    "import sys,tty,termios\n",
    "\n",
    "class _Getch:\n",
    "    def __call__(self):\n",
    "        fd = sys.stdin.fileno()\n",
    "        old_settingfs = termios.tcgetattr(fd)\n",
    "        try:\n",
    "            tty.setraw(sys.stdin.fileno())\n",
    "        finally:\n",
    "            termios.tcsetattr(fd, termios.TCSADRAIN, old_settings)\n",
    "        return ch\n",
    "    \n",
    "inkey = Getch()\n",
    "\n",
    "# MARCOS\n",
    "LEFT = 0\n",
    "DOWN = 1\n",
    "RIGHT = 2\n",
    "UP = 3\n",
    "\n",
    "#key Mapping\n",
    "arrow_key = {\n",
    "    '\\xlb[A': UP,\n",
    "    '\\xlb[B': DOWN,\n",
    "    '\\xlb[C': RIGHT,\n",
    "    '\\xlb[D': LEFT}\n",
    "\n",
    "register(\n",
    "    id = \"FrozenLake-3\",\n",
    "    entry_point = 'gym.envs.toy_text:FrozenLakeEnv',\n",
    "    kwargs = {'map_name' : '4x4', 'is_slippery':False})\n",
    "\n",
    "env = gym.make('FrozenLake-v3')\n",
    "env.rander()\n",
    "\n",
    "while True:\n",
    "    key = inkey()\n",
    "    if key not in arrow_keys.keys():\n",
    "        print(\"Game aborted!\")\n",
    "        break\n",
    "    action = arrow_keys[key]\n",
    "    state,reward,done,info = enc.step(action)\n",
    "    env.render()\n",
    "    print(\"State: \",state, \"Action: \", action, \"Reward: \", reward, \"Info: \", info)\n",
    "    \n",
    "    if done:\n",
    "        print(\"Finished with reward\", reward)\n",
    "        break"
   ]
  },
  {
   "cell_type": "code",
   "execution_count": null,
   "id": "de035e57",
   "metadata": {},
   "outputs": [],
   "source": []
  }
 ],
 "metadata": {
  "kernelspec": {
   "display_name": "Python 3 (ipykernel)",
   "language": "python",
   "name": "python3"
  },
  "language_info": {
   "codemirror_mode": {
    "name": "ipython",
    "version": 3
   },
   "file_extension": ".py",
   "mimetype": "text/x-python",
   "name": "python",
   "nbconvert_exporter": "python",
   "pygments_lexer": "ipython3",
   "version": "3.9.12"
  }
 },
 "nbformat": 4,
 "nbformat_minor": 5
}
